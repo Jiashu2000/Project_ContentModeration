{
  "nbformat": 4,
  "nbformat_minor": 0,
  "metadata": {
    "colab": {
      "provenance": []
    },
    "kernelspec": {
      "name": "python3",
      "display_name": "Python 3"
    },
    "language_info": {
      "name": "python"
    }
  },
  "cells": [
    {
      "cell_type": "markdown",
      "source": [
        "### TABLE OF CONTENTS\n",
        "\n",
        "- I.Data Import\n",
        "- II. Data Exploration\n",
        "- III. Train-Dev Split\n",
        "- IV. Tokenization\n",
        "- V. Embeddings\n",
        "- VI. Performance Evaluation\n",
        "- VII. DNN Model\n",
        "- VIII. CNN Model\n",
        "- IX. CNN + LSTM Model\n",
        "- X. RNN BLSTM Models\n"
      ],
      "metadata": {
        "id": "aYGIG7gIORWI"
      }
    },
    {
      "cell_type": "markdown",
      "source": [
        "### I. Data Import\n",
        "\n",
        "Data Source:\n",
        "\n",
        "Toxic Comment Classification Challenge\n",
        "\n",
        "https://www.kaggle.com/competitions/jigsaw-toxic-comment-classification-challenge/data"
      ],
      "metadata": {
        "id": "NCJuzB9COklB"
      }
    },
    {
      "cell_type": "code",
      "source": [
        "import pandas as pd\n",
        "import numpy as np\n",
        "import matplotlib.pyplot as plt"
      ],
      "metadata": {
        "id": "xFxx7uUeOt9S"
      },
      "execution_count": null,
      "outputs": []
    },
    {
      "cell_type": "code",
      "source": [
        "TRAIN_DATA_FILE= '/content/drive/MyDrive/ContentModerationProject/Final/train.csv'"
      ],
      "metadata": {
        "id": "8d3C93qqO0uz"
      },
      "execution_count": null,
      "outputs": []
    },
    {
      "cell_type": "code",
      "source": [
        "max_features = 20000 # how many unique words to use (i.e num rows in embedding vector)\n",
        "maxlen = 50 # max number of words in a comment to use\n",
        "embed_size = 100"
      ],
      "metadata": {
        "id": "XqlG-U4LO4Ow"
      },
      "execution_count": null,
      "outputs": []
    },
    {
      "cell_type": "code",
      "source": [
        "train = pd.read_csv(TRAIN_DATA_FILE)"
      ],
      "metadata": {
        "id": "fhdguhIoO4RY"
      },
      "execution_count": null,
      "outputs": []
    },
    {
      "cell_type": "code",
      "source": [
        "train.shape"
      ],
      "metadata": {
        "colab": {
          "base_uri": "https://localhost:8080/"
        },
        "id": "HRFl_1J-O4V8",
        "outputId": "720acf1d-4fe7-4203-a3ec-784a0e513578"
      },
      "execution_count": null,
      "outputs": [
        {
          "output_type": "execute_result",
          "data": {
            "text/plain": [
              "(159571, 8)"
            ]
          },
          "metadata": {},
          "execution_count": 26
        }
      ]
    },
    {
      "cell_type": "code",
      "source": [
        "train.head()"
      ],
      "metadata": {
        "colab": {
          "base_uri": "https://localhost:8080/",
          "height": 337
        },
        "id": "K26vG28LO4Yy",
        "outputId": "db4a912f-2738-4646-a7f4-e2fcd62a203f"
      },
      "execution_count": null,
      "outputs": [
        {
          "output_type": "execute_result",
          "data": {
            "text/plain": [
              "                 id                                       comment_text  toxic  \\\n",
              "0  0000997932d777bf  Explanation\\nWhy the edits made under my usern...      0   \n",
              "1  000103f0d9cfb60f  D'aww! He matches this background colour I'm s...      0   \n",
              "2  000113f07ec002fd  Hey man, I'm really not trying to edit war. It...      0   \n",
              "3  0001b41b1c6bb37e  \"\\nMore\\nI can't make any real suggestions on ...      0   \n",
              "4  0001d958c54c6e35  You, sir, are my hero. Any chance you remember...      0   \n",
              "\n",
              "   severe_toxic  obscene  threat  insult  identity_hate  \n",
              "0             0        0       0       0              0  \n",
              "1             0        0       0       0              0  \n",
              "2             0        0       0       0              0  \n",
              "3             0        0       0       0              0  \n",
              "4             0        0       0       0              0  "
            ],
            "text/html": [
              "\n",
              "  <div id=\"df-816b4975-4bff-45d5-a2e5-62a4a42fbf35\">\n",
              "    <div class=\"colab-df-container\">\n",
              "      <div>\n",
              "<style scoped>\n",
              "    .dataframe tbody tr th:only-of-type {\n",
              "        vertical-align: middle;\n",
              "    }\n",
              "\n",
              "    .dataframe tbody tr th {\n",
              "        vertical-align: top;\n",
              "    }\n",
              "\n",
              "    .dataframe thead th {\n",
              "        text-align: right;\n",
              "    }\n",
              "</style>\n",
              "<table border=\"1\" class=\"dataframe\">\n",
              "  <thead>\n",
              "    <tr style=\"text-align: right;\">\n",
              "      <th></th>\n",
              "      <th>id</th>\n",
              "      <th>comment_text</th>\n",
              "      <th>toxic</th>\n",
              "      <th>severe_toxic</th>\n",
              "      <th>obscene</th>\n",
              "      <th>threat</th>\n",
              "      <th>insult</th>\n",
              "      <th>identity_hate</th>\n",
              "    </tr>\n",
              "  </thead>\n",
              "  <tbody>\n",
              "    <tr>\n",
              "      <th>0</th>\n",
              "      <td>0000997932d777bf</td>\n",
              "      <td>Explanation\\nWhy the edits made under my usern...</td>\n",
              "      <td>0</td>\n",
              "      <td>0</td>\n",
              "      <td>0</td>\n",
              "      <td>0</td>\n",
              "      <td>0</td>\n",
              "      <td>0</td>\n",
              "    </tr>\n",
              "    <tr>\n",
              "      <th>1</th>\n",
              "      <td>000103f0d9cfb60f</td>\n",
              "      <td>D'aww! He matches this background colour I'm s...</td>\n",
              "      <td>0</td>\n",
              "      <td>0</td>\n",
              "      <td>0</td>\n",
              "      <td>0</td>\n",
              "      <td>0</td>\n",
              "      <td>0</td>\n",
              "    </tr>\n",
              "    <tr>\n",
              "      <th>2</th>\n",
              "      <td>000113f07ec002fd</td>\n",
              "      <td>Hey man, I'm really not trying to edit war. It...</td>\n",
              "      <td>0</td>\n",
              "      <td>0</td>\n",
              "      <td>0</td>\n",
              "      <td>0</td>\n",
              "      <td>0</td>\n",
              "      <td>0</td>\n",
              "    </tr>\n",
              "    <tr>\n",
              "      <th>3</th>\n",
              "      <td>0001b41b1c6bb37e</td>\n",
              "      <td>\"\\nMore\\nI can't make any real suggestions on ...</td>\n",
              "      <td>0</td>\n",
              "      <td>0</td>\n",
              "      <td>0</td>\n",
              "      <td>0</td>\n",
              "      <td>0</td>\n",
              "      <td>0</td>\n",
              "    </tr>\n",
              "    <tr>\n",
              "      <th>4</th>\n",
              "      <td>0001d958c54c6e35</td>\n",
              "      <td>You, sir, are my hero. Any chance you remember...</td>\n",
              "      <td>0</td>\n",
              "      <td>0</td>\n",
              "      <td>0</td>\n",
              "      <td>0</td>\n",
              "      <td>0</td>\n",
              "      <td>0</td>\n",
              "    </tr>\n",
              "  </tbody>\n",
              "</table>\n",
              "</div>\n",
              "      <button class=\"colab-df-convert\" onclick=\"convertToInteractive('df-816b4975-4bff-45d5-a2e5-62a4a42fbf35')\"\n",
              "              title=\"Convert this dataframe to an interactive table.\"\n",
              "              style=\"display:none;\">\n",
              "        \n",
              "  <svg xmlns=\"http://www.w3.org/2000/svg\" height=\"24px\"viewBox=\"0 0 24 24\"\n",
              "       width=\"24px\">\n",
              "    <path d=\"M0 0h24v24H0V0z\" fill=\"none\"/>\n",
              "    <path d=\"M18.56 5.44l.94 2.06.94-2.06 2.06-.94-2.06-.94-.94-2.06-.94 2.06-2.06.94zm-11 1L8.5 8.5l.94-2.06 2.06-.94-2.06-.94L8.5 2.5l-.94 2.06-2.06.94zm10 10l.94 2.06.94-2.06 2.06-.94-2.06-.94-.94-2.06-.94 2.06-2.06.94z\"/><path d=\"M17.41 7.96l-1.37-1.37c-.4-.4-.92-.59-1.43-.59-.52 0-1.04.2-1.43.59L10.3 9.45l-7.72 7.72c-.78.78-.78 2.05 0 2.83L4 21.41c.39.39.9.59 1.41.59.51 0 1.02-.2 1.41-.59l7.78-7.78 2.81-2.81c.8-.78.8-2.07 0-2.86zM5.41 20L4 18.59l7.72-7.72 1.47 1.35L5.41 20z\"/>\n",
              "  </svg>\n",
              "      </button>\n",
              "      \n",
              "  <style>\n",
              "    .colab-df-container {\n",
              "      display:flex;\n",
              "      flex-wrap:wrap;\n",
              "      gap: 12px;\n",
              "    }\n",
              "\n",
              "    .colab-df-convert {\n",
              "      background-color: #E8F0FE;\n",
              "      border: none;\n",
              "      border-radius: 50%;\n",
              "      cursor: pointer;\n",
              "      display: none;\n",
              "      fill: #1967D2;\n",
              "      height: 32px;\n",
              "      padding: 0 0 0 0;\n",
              "      width: 32px;\n",
              "    }\n",
              "\n",
              "    .colab-df-convert:hover {\n",
              "      background-color: #E2EBFA;\n",
              "      box-shadow: 0px 1px 2px rgba(60, 64, 67, 0.3), 0px 1px 3px 1px rgba(60, 64, 67, 0.15);\n",
              "      fill: #174EA6;\n",
              "    }\n",
              "\n",
              "    [theme=dark] .colab-df-convert {\n",
              "      background-color: #3B4455;\n",
              "      fill: #D2E3FC;\n",
              "    }\n",
              "\n",
              "    [theme=dark] .colab-df-convert:hover {\n",
              "      background-color: #434B5C;\n",
              "      box-shadow: 0px 1px 3px 1px rgba(0, 0, 0, 0.15);\n",
              "      filter: drop-shadow(0px 1px 2px rgba(0, 0, 0, 0.3));\n",
              "      fill: #FFFFFF;\n",
              "    }\n",
              "  </style>\n",
              "\n",
              "      <script>\n",
              "        const buttonEl =\n",
              "          document.querySelector('#df-816b4975-4bff-45d5-a2e5-62a4a42fbf35 button.colab-df-convert');\n",
              "        buttonEl.style.display =\n",
              "          google.colab.kernel.accessAllowed ? 'block' : 'none';\n",
              "\n",
              "        async function convertToInteractive(key) {\n",
              "          const element = document.querySelector('#df-816b4975-4bff-45d5-a2e5-62a4a42fbf35');\n",
              "          const dataTable =\n",
              "            await google.colab.kernel.invokeFunction('convertToInteractive',\n",
              "                                                     [key], {});\n",
              "          if (!dataTable) return;\n",
              "\n",
              "          const docLinkHtml = 'Like what you see? Visit the ' +\n",
              "            '<a target=\"_blank\" href=https://colab.research.google.com/notebooks/data_table.ipynb>data table notebook</a>'\n",
              "            + ' to learn more about interactive tables.';\n",
              "          element.innerHTML = '';\n",
              "          dataTable['output_type'] = 'display_data';\n",
              "          await google.colab.output.renderOutput(dataTable, element);\n",
              "          const docLink = document.createElement('div');\n",
              "          docLink.innerHTML = docLinkHtml;\n",
              "          element.appendChild(docLink);\n",
              "        }\n",
              "      </script>\n",
              "    </div>\n",
              "  </div>\n",
              "  "
            ]
          },
          "metadata": {},
          "execution_count": 27
        }
      ]
    },
    {
      "cell_type": "markdown",
      "source": [
        "### II. Data Exploration"
      ],
      "metadata": {
        "id": "b_QahycOP6si"
      }
    },
    {
      "cell_type": "code",
      "source": [
        "# Check the dimensions\n",
        "print(f\"Number of rows: {train.shape[0]}\\n\"\n",
        "      f\"Number of columns: {train.shape[1]}\")\n",
        "\n",
        "# Check for missing values\n",
        "print(f\"Number of missing values: {train.isna().sum().sum()}\")"
      ],
      "metadata": {
        "colab": {
          "base_uri": "https://localhost:8080/"
        },
        "id": "EppOj6I6QR_x",
        "outputId": "4c09eff7-1df1-4ab0-f7af-518eace4cf29"
      },
      "execution_count": null,
      "outputs": [
        {
          "output_type": "stream",
          "name": "stdout",
          "text": [
            "Number of rows: 159571\n",
            "Number of columns: 8\n",
            "Number of missing values: 0\n"
          ]
        }
      ]
    },
    {
      "cell_type": "code",
      "source": [
        "# Inspect the classes\n",
        "cols = [\"toxic\", \"severe_toxic\", \"obscene\", \"threat\", \"insult\", \"identity_hate\"]\n",
        "classes = [train[col].value_counts(normalize = True) for col in cols]\n",
        "pd.DataFrame(classes, index = cols)"
      ],
      "metadata": {
        "colab": {
          "base_uri": "https://localhost:8080/",
          "height": 238
        },
        "id": "FcOBSc6dSUg9",
        "outputId": "7b8ce3fa-e987-4d50-84af-5f652c8fc4e1"
      },
      "execution_count": null,
      "outputs": [
        {
          "output_type": "execute_result",
          "data": {
            "text/plain": [
              "                      0         1\n",
              "toxic          0.904156  0.095844\n",
              "severe_toxic   0.990004  0.009996\n",
              "obscene        0.947052  0.052948\n",
              "threat         0.997004  0.002996\n",
              "insult         0.950636  0.049364\n",
              "identity_hate  0.991195  0.008805"
            ],
            "text/html": [
              "\n",
              "  <div id=\"df-3e7f5573-7202-46c5-b23c-18287905ab2a\">\n",
              "    <div class=\"colab-df-container\">\n",
              "      <div>\n",
              "<style scoped>\n",
              "    .dataframe tbody tr th:only-of-type {\n",
              "        vertical-align: middle;\n",
              "    }\n",
              "\n",
              "    .dataframe tbody tr th {\n",
              "        vertical-align: top;\n",
              "    }\n",
              "\n",
              "    .dataframe thead th {\n",
              "        text-align: right;\n",
              "    }\n",
              "</style>\n",
              "<table border=\"1\" class=\"dataframe\">\n",
              "  <thead>\n",
              "    <tr style=\"text-align: right;\">\n",
              "      <th></th>\n",
              "      <th>0</th>\n",
              "      <th>1</th>\n",
              "    </tr>\n",
              "  </thead>\n",
              "  <tbody>\n",
              "    <tr>\n",
              "      <th>toxic</th>\n",
              "      <td>0.904156</td>\n",
              "      <td>0.095844</td>\n",
              "    </tr>\n",
              "    <tr>\n",
              "      <th>severe_toxic</th>\n",
              "      <td>0.990004</td>\n",
              "      <td>0.009996</td>\n",
              "    </tr>\n",
              "    <tr>\n",
              "      <th>obscene</th>\n",
              "      <td>0.947052</td>\n",
              "      <td>0.052948</td>\n",
              "    </tr>\n",
              "    <tr>\n",
              "      <th>threat</th>\n",
              "      <td>0.997004</td>\n",
              "      <td>0.002996</td>\n",
              "    </tr>\n",
              "    <tr>\n",
              "      <th>insult</th>\n",
              "      <td>0.950636</td>\n",
              "      <td>0.049364</td>\n",
              "    </tr>\n",
              "    <tr>\n",
              "      <th>identity_hate</th>\n",
              "      <td>0.991195</td>\n",
              "      <td>0.008805</td>\n",
              "    </tr>\n",
              "  </tbody>\n",
              "</table>\n",
              "</div>\n",
              "      <button class=\"colab-df-convert\" onclick=\"convertToInteractive('df-3e7f5573-7202-46c5-b23c-18287905ab2a')\"\n",
              "              title=\"Convert this dataframe to an interactive table.\"\n",
              "              style=\"display:none;\">\n",
              "        \n",
              "  <svg xmlns=\"http://www.w3.org/2000/svg\" height=\"24px\"viewBox=\"0 0 24 24\"\n",
              "       width=\"24px\">\n",
              "    <path d=\"M0 0h24v24H0V0z\" fill=\"none\"/>\n",
              "    <path d=\"M18.56 5.44l.94 2.06.94-2.06 2.06-.94-2.06-.94-.94-2.06-.94 2.06-2.06.94zm-11 1L8.5 8.5l.94-2.06 2.06-.94-2.06-.94L8.5 2.5l-.94 2.06-2.06.94zm10 10l.94 2.06.94-2.06 2.06-.94-2.06-.94-.94-2.06-.94 2.06-2.06.94z\"/><path d=\"M17.41 7.96l-1.37-1.37c-.4-.4-.92-.59-1.43-.59-.52 0-1.04.2-1.43.59L10.3 9.45l-7.72 7.72c-.78.78-.78 2.05 0 2.83L4 21.41c.39.39.9.59 1.41.59.51 0 1.02-.2 1.41-.59l7.78-7.78 2.81-2.81c.8-.78.8-2.07 0-2.86zM5.41 20L4 18.59l7.72-7.72 1.47 1.35L5.41 20z\"/>\n",
              "  </svg>\n",
              "      </button>\n",
              "      \n",
              "  <style>\n",
              "    .colab-df-container {\n",
              "      display:flex;\n",
              "      flex-wrap:wrap;\n",
              "      gap: 12px;\n",
              "    }\n",
              "\n",
              "    .colab-df-convert {\n",
              "      background-color: #E8F0FE;\n",
              "      border: none;\n",
              "      border-radius: 50%;\n",
              "      cursor: pointer;\n",
              "      display: none;\n",
              "      fill: #1967D2;\n",
              "      height: 32px;\n",
              "      padding: 0 0 0 0;\n",
              "      width: 32px;\n",
              "    }\n",
              "\n",
              "    .colab-df-convert:hover {\n",
              "      background-color: #E2EBFA;\n",
              "      box-shadow: 0px 1px 2px rgba(60, 64, 67, 0.3), 0px 1px 3px 1px rgba(60, 64, 67, 0.15);\n",
              "      fill: #174EA6;\n",
              "    }\n",
              "\n",
              "    [theme=dark] .colab-df-convert {\n",
              "      background-color: #3B4455;\n",
              "      fill: #D2E3FC;\n",
              "    }\n",
              "\n",
              "    [theme=dark] .colab-df-convert:hover {\n",
              "      background-color: #434B5C;\n",
              "      box-shadow: 0px 1px 3px 1px rgba(0, 0, 0, 0.15);\n",
              "      filter: drop-shadow(0px 1px 2px rgba(0, 0, 0, 0.3));\n",
              "      fill: #FFFFFF;\n",
              "    }\n",
              "  </style>\n",
              "\n",
              "      <script>\n",
              "        const buttonEl =\n",
              "          document.querySelector('#df-3e7f5573-7202-46c5-b23c-18287905ab2a button.colab-df-convert');\n",
              "        buttonEl.style.display =\n",
              "          google.colab.kernel.accessAllowed ? 'block' : 'none';\n",
              "\n",
              "        async function convertToInteractive(key) {\n",
              "          const element = document.querySelector('#df-3e7f5573-7202-46c5-b23c-18287905ab2a');\n",
              "          const dataTable =\n",
              "            await google.colab.kernel.invokeFunction('convertToInteractive',\n",
              "                                                     [key], {});\n",
              "          if (!dataTable) return;\n",
              "\n",
              "          const docLinkHtml = 'Like what you see? Visit the ' +\n",
              "            '<a target=\"_blank\" href=https://colab.research.google.com/notebooks/data_table.ipynb>data table notebook</a>'\n",
              "            + ' to learn more about interactive tables.';\n",
              "          element.innerHTML = '';\n",
              "          dataTable['output_type'] = 'display_data';\n",
              "          await google.colab.output.renderOutput(dataTable, element);\n",
              "          const docLink = document.createElement('div');\n",
              "          docLink.innerHTML = docLinkHtml;\n",
              "          element.appendChild(docLink);\n",
              "        }\n",
              "      </script>\n",
              "    </div>\n",
              "  </div>\n",
              "  "
            ]
          },
          "metadata": {},
          "execution_count": 29
        }
      ]
    },
    {
      "cell_type": "code",
      "source": [
        "# Set up the figure with subplots\n",
        "plt.rcParams.update({\"font.family\": \"serif\"})\n",
        "fig, axs = plt.subplots(nrows = 2, ncols = 3, figsize = (12, 8.5))\n",
        "\n",
        "# Visualize the class distribution for each column\n",
        "for i, col in enumerate(cols):\n",
        "    counts = train[col].value_counts()\n",
        "    axs[i // 3, i % 3].bar(counts.index, counts.values, color = [\"#C5E1E7\", \"#7DC6D4\"])\n",
        "    axs[i // 3, i % 3].set_title(col)\n",
        "    axs[i // 3, i % 3].set_xlabel(\"Value\")\n",
        "    axs[i // 3, i % 3].set_ylabel(\"Count\")\n",
        "\n",
        "# Display the plot\n",
        "fig.suptitle(\"Class Distribution\", size = 20) # Assign main title\n",
        "fig.tight_layout()"
      ],
      "metadata": {
        "colab": {
          "base_uri": "https://localhost:8080/",
          "height": 672
        },
        "id": "DlKOnSQgP9N0",
        "outputId": "f28e77f7-bf07-4daa-ef77-40715561b052"
      },
      "execution_count": null,
      "outputs": [
        {
          "output_type": "display_data",
          "data": {
            "text/plain": [
              "<Figure size 1200x850 with 6 Axes>"
            ],
            "image/png": "[encoded data removed]"
          },
          "metadata": {}
        }
      ]
    },
    {
      "cell_type": "markdown",
      "source": [
        "### III. Train-Dev Split"
      ],
      "metadata": {
        "id": "L9dlxivZNJ5z"
      }
    },
    {
      "cell_type": "code",
      "source": [
        "from sklearn.model_selection import train_test_split"
      ],
      "metadata": {
        "id": "kyLh_JK6M6nw"
      },
      "execution_count": null,
      "outputs": []
    },
    {
      "cell_type": "code",
      "source": [
        "X_train, X_dev, y_train, y_dev = train_test_split(train[\"comment_text\"], train[cols], \n",
        "                                                  test_size = 0.2, random_state = 10)"
      ],
      "metadata": {
        "id": "edvU8PmaP9TH"
      },
      "execution_count": null,
      "outputs": []
    },
    {
      "cell_type": "code",
      "source": [
        "X_train = np.array(X_train).reshape(X_train.shape[0], 1)\n",
        "X_dev = np.array(X_dev).reshape(X_dev.shape[0], 1)"
      ],
      "metadata": {
        "id": "wOnyoElkP9Vp"
      },
      "execution_count": null,
      "outputs": []
    },
    {
      "cell_type": "code",
      "source": [
        "print(X_train.shape, X_dev.shape, y_train.shape, y_dev.shape)"
      ],
      "metadata": {
        "colab": {
          "base_uri": "https://localhost:8080/"
        },
        "id": "UTOSgu3UP9Xy",
        "outputId": "0fd04780-c7a1-456d-b3c7-be0eecf28da1"
      },
      "execution_count": null,
      "outputs": [
        {
          "output_type": "stream",
          "name": "stdout",
          "text": [
            "(127656, 1) (31915, 1) (127656, 6) (31915, 6)\n"
          ]
        }
      ]
    },
    {
      "cell_type": "markdown",
      "source": [
        "### IV. Tokenization"
      ],
      "metadata": {
        "id": "waJLImQMTH_I"
      }
    },
    {
      "cell_type": "code",
      "source": [
        "import re\n",
        "import nltk\n",
        "nltk.download('averaged_perceptron_tagger')\n",
        "nltk.download('wordnet')\n",
        "nltk.download('stopwords')\n",
        "from nltk.corpus import stopwords\n",
        "from nltk import word_tokenize\n",
        "from nltk.stem.porter import PorterStemmer\n",
        "from nltk.stem import WordNetLemmatizer\n",
        "from nltk import pos_tag\n",
        "from nltk.corpus import wordnet\n",
        "from keras.preprocessing.text import Tokenizer\n",
        "from keras.utils import pad_sequences"
      ],
      "metadata": {
        "colab": {
          "base_uri": "https://localhost:8080/"
        },
        "id": "Q6fG_L1tP9aE",
        "outputId": "3a9af330-d3a3-410f-af1c-c04bcd145315"
      },
      "execution_count": null,
      "outputs": [
        {
          "output_type": "stream",
          "name": "stderr",
          "text": [
            "[nltk_data] Downloading package averaged_perceptron_tagger to\n",
            "[nltk_data]     /root/nltk_data...\n",
            "[nltk_data]   Package averaged_perceptron_tagger is already up-to-\n",
            "[nltk_data]       date!\n",
            "[nltk_data] Downloading package wordnet to /root/nltk_data...\n",
            "[nltk_data]   Package wordnet is already up-to-date!\n",
            "[nltk_data] Downloading package stopwords to /root/nltk_data...\n",
            "[nltk_data]   Package stopwords is already up-to-date!\n"
          ]
        }
      ]
    },
    {
      "cell_type": "code",
      "source": [
        "lemmatizer = WordNetLemmatizer()\n",
        "sw = set(stopwords.words('english'))"
      ],
      "metadata": {
        "id": "5t2oLNd1TzpJ"
      },
      "execution_count": null,
      "outputs": []
    },
    {
      "cell_type": "code",
      "source": [
        "# Need to convert treebank_tag to wordnet tag before lemmatization\n",
        "# reference code: https://stackoverflow.com/questions/15586721/wordnet-lemmatization-and-pos-tagging-in-python\n",
        "\n",
        "def get_wordnet_pos(treebank_tag):\n",
        "\n",
        "    if treebank_tag.startswith('J'):\n",
        "        return wordnet.ADJ\n",
        "    elif treebank_tag.startswith('V'):\n",
        "        return wordnet.VERB\n",
        "    elif treebank_tag.startswith('N'):\n",
        "        return wordnet.NOUN\n",
        "    elif treebank_tag.startswith('R'):\n",
        "        return wordnet.ADV\n",
        "    else:\n",
        "        return None"
      ],
      "metadata": {
        "id": "mdf1l72ETzsI"
      },
      "execution_count": null,
      "outputs": []
    },
    {
      "cell_type": "code",
      "source": [
        "def postag_lemmatize(t):\n",
        "    l = []\n",
        "    tagged_t = nltk.pos_tag(t)\n",
        "    for word, tag in tagged_t:\n",
        "        wntag = get_wordnet_pos(tag)\n",
        "        if wntag is None:\n",
        "            l.append(lemmatizer.lemmatize(word))\n",
        "        else:\n",
        "            l.append(lemmatizer.lemmatize(word, pos=wntag))\n",
        "    return l "
      ],
      "metadata": {
        "id": "tMeOjPVbTzuq"
      },
      "execution_count": null,
      "outputs": []
    },
    {
      "cell_type": "code",
      "source": [
        "def text_clean(t):\n",
        "    t = re.sub(r'\\n', ' ', t)\n",
        "    t = re.sub(r'\\t', ' ', t)\n",
        "    t = t.lower()\n",
        "    t = re.sub('[^a-z]', ' ', t)\n",
        "    t = t.split()\n",
        "    t = postag_lemmatize(t)\n",
        "    t = [w for w in t if w not in sw]\n",
        "    return t"
      ],
      "metadata": {
        "id": "Vs4jFCjpTzxO"
      },
      "execution_count": null,
      "outputs": []
    },
    {
      "cell_type": "code",
      "source": [
        "comment_list_train = [str(item[0]) for item in X_train.tolist()]\n",
        "comment_list_dev = [str(item[0]) for item in X_dev.tolist()]"
      ],
      "metadata": {
        "id": "tj2WOY6pTzzt"
      },
      "execution_count": null,
      "outputs": []
    },
    {
      "cell_type": "code",
      "source": [
        "tokenizer = Tokenizer(num_words=max_features)\n",
        "tokenizer.fit_on_texts(comment_list_train)"
      ],
      "metadata": {
        "id": "QDzNaAfZTz2L"
      },
      "execution_count": null,
      "outputs": []
    },
    {
      "cell_type": "code",
      "source": [
        "tokens_train = tokenizer.texts_to_sequences(comment_list_train)\n",
        "tokens_dev = tokenizer.texts_to_sequences(comment_list_dev)"
      ],
      "metadata": {
        "id": "PWae1tYOTz4y"
      },
      "execution_count": null,
      "outputs": []
    },
    {
      "cell_type": "code",
      "source": [
        "tokens_train = pad_sequences(tokens_train, maxlen=maxlen)\n",
        "tokens_dev = pad_sequences(tokens_dev, maxlen=maxlen)"
      ],
      "metadata": {
        "id": "bULpGwd6UJhA"
      },
      "execution_count": null,
      "outputs": []
    },
    {
      "cell_type": "code",
      "source": [
        "word_index = tokenizer.word_index"
      ],
      "metadata": {
        "id": "SYXinm5QUJj_"
      },
      "execution_count": null,
      "outputs": []
    },
    {
      "cell_type": "code",
      "source": [
        "print(tokens_train.shape, tokens_dev.shape)"
      ],
      "metadata": {
        "colab": {
          "base_uri": "https://localhost:8080/"
        },
        "id": "nn6o64_BUJmJ",
        "outputId": "a62e71d0-fb3e-4b64-917d-a8200586a7c4"
      },
      "execution_count": null,
      "outputs": [
        {
          "output_type": "stream",
          "name": "stdout",
          "text": [
            "(127656, 50) (31915, 50)\n"
          ]
        }
      ]
    },
    {
      "cell_type": "markdown",
      "source": [
        "### V. Embeddings"
      ],
      "metadata": {
        "id": "P41hRSyRUSjQ"
      }
    },
    {
      "cell_type": "code",
      "source": [
        "!wget http://downloads.cs.stanford.edu/nlp/data/glove.6B.zip\n",
        "!unzip /content/glove.6B.zip"
      ],
      "metadata": {
        "colab": {
          "base_uri": "https://localhost:8080/"
        },
        "id": "bDHQepiGVEdH",
        "outputId": "31806f20-6df1-4fcc-9ed0-656c673ccdae"
      },
      "execution_count": null,
      "outputs": [
        {
          "output_type": "stream",
          "name": "stdout",
          "text": [
            "--2023-06-08 12:27:21--  http://downloads.cs.stanford.edu/nlp/data/glove.6B.zip\n",
            "Resolving downloads.cs.stanford.edu (downloads.cs.stanford.edu)... 171.64.64.22\n",
            "Connecting to downloads.cs.stanford.edu (downloads.cs.stanford.edu)|171.64.64.22|:80... connected.\n",
            "HTTP request sent, awaiting response... 200 OK\n",
            "Length: 862182613 (822M) [application/zip]\n",
            "Saving to: ‘glove.6B.zip’\n",
            "\n",
            "glove.6B.zip        100%[===================>] 822.24M  5.09MB/s    in 2m 40s  \n",
            "\n",
            "2023-06-08 12:30:01 (5.13 MB/s) - ‘glove.6B.zip’ saved [862182613/862182613]\n",
            "\n",
            "Archive:  /content/glove.6B.zip\n",
            "  inflating: glove.6B.50d.txt        \n",
            "  inflating: glove.6B.100d.txt       \n",
            "  inflating: glove.6B.200d.txt       \n",
            "  inflating: glove.6B.300d.txt       \n"
          ]
        }
      ]
    },
    {
      "cell_type": "code",
      "source": [
        "EMBEDDING_FILE= 'glove.6B.100d.txt'"
      ],
      "metadata": {
        "id": "douMjKYYUJoa"
      },
      "execution_count": null,
      "outputs": []
    },
    {
      "cell_type": "code",
      "source": [
        "def build_word_dict(d, file):\n",
        "    with open(file, 'r') as f:\n",
        "        for line in f.readlines(): # read the file line by line\n",
        "            line = line.split(' ') # split each line by space\n",
        "\n",
        "            try:\n",
        "                d[line[0]] = np.array(line[1:], dtype = 'float32') \n",
        "                # line[0] is the word, which is the key of the dictionary\n",
        "                # line[1:] are embeddings, which is the value of the dictionary\n",
        "            except: \n",
        "                continue"
      ],
      "metadata": {
        "id": "uwPIC9gOUJrN"
      },
      "execution_count": null,
      "outputs": []
    },
    {
      "cell_type": "code",
      "source": [
        "embeddings_dict = dict()\n",
        "build_word_dict(embeddings_dict, EMBEDDING_FILE)"
      ],
      "metadata": {
        "id": "ZR91ZLfxVQ1Q"
      },
      "execution_count": null,
      "outputs": []
    },
    {
      "cell_type": "code",
      "source": [
        "#Normalization\n",
        "embed_vals = np.stack(embeddings_dict.values())\n",
        "embed_mean, embed_std = embed_vals.mean(), embed_vals.std()\n",
        "print(embed_mean, embed_std)"
      ],
      "metadata": {
        "colab": {
          "base_uri": "https://localhost:8080/"
        },
        "id": "-Y3BMsibWGzW",
        "outputId": "973494bf-e311-40b0-98a6-325107b2b385"
      },
      "execution_count": null,
      "outputs": [
        {
          "output_type": "stream",
          "name": "stderr",
          "text": [
            "/usr/local/lib/python3.10/dist-packages/IPython/core/interactiveshell.py:3473: FutureWarning: arrays to stack must be passed as a \"sequence\" type such as list or tuple. Support for non-sequence iterables such as generators is deprecated as of NumPy 1.16 and will raise an error in the future.\n",
            "  if (await self.run_code(code, result,  async_=asy)):\n"
          ]
        },
        {
          "output_type": "stream",
          "name": "stdout",
          "text": [
            "0.004451992 0.4081574\n"
          ]
        }
      ]
    },
    {
      "cell_type": "code",
      "source": [
        "word_index = tokenizer.word_index\n",
        "nb_words = min(max_features, len(word_index))\n",
        "embedding_matrix = np.random.normal(embed_mean, embed_std, (nb_words, embed_size))\n",
        "for word, i in word_index.items():\n",
        "    if i >= max_features: continue\n",
        "    embedding_vector = embeddings_dict.get(word)\n",
        "    if embedding_vector is not None: embedding_matrix[i] = embedding_vector"
      ],
      "metadata": {
        "id": "8lKh-JarWJ60"
      },
      "execution_count": null,
      "outputs": []
    },
    {
      "cell_type": "markdown",
      "source": [
        "### VI. Performance Evaluation"
      ],
      "metadata": {
        "id": "JRTHPUMtW_VP"
      }
    },
    {
      "cell_type": "code",
      "source": [
        "from sklearn.metrics import precision_score, recall_score, f1_score, accuracy_score\n",
        "from sklearn.metrics import classification_report\n",
        "from sklearn.metrics import confusion_matrix"
      ],
      "metadata": {
        "id": "yfGPgOP5BUUK"
      },
      "execution_count": null,
      "outputs": []
    },
    {
      "cell_type": "code",
      "source": [
        "def float_array_to_binary(float_array, threshold):\n",
        "    binary_array = np.where(np.array(float_array) >=  threshold, 1, 0)\n",
        "    return binary_array"
      ],
      "metadata": {
        "id": "fqZyLNMbWQmr"
      },
      "execution_count": null,
      "outputs": []
    },
    {
      "cell_type": "code",
      "source": [
        "def chooseThreshold(subtype, true, pred, plot = True):\n",
        "    max_f1 = 0\n",
        "    argmax_f1 = 0\n",
        "    accuracy_list = []\n",
        "    recall_list = []\n",
        "    precision_list = []\n",
        "    f1_list = []\n",
        "    thres_list = np.arange(0.1, 1.0, 0.1)\n",
        "\n",
        "    for i in thres_list:\n",
        "        i = round(i, 2)\n",
        "        pred_i = float_array_to_binary(pred, i)\n",
        "        accuracy = accuracy_score(true, pred_i)\n",
        "        accuracy_list.append(accuracy)\n",
        "        recall = recall_score(true, pred_i)\n",
        "        recall_list.append(recall)\n",
        "        precision = precision_score(true, pred_i)\n",
        "        precision_list.append(precision)\n",
        "        f1 = f1_score(true, pred_i)\n",
        "        f1_list.append(f1)\n",
        "        if f1 > max_f1:\n",
        "            max_f1 = f1\n",
        "            argmax_f1 = i\n",
        "    \n",
        "    if plot:\n",
        "        plt.plot(thres_list, accuracy_list, label ='accuracy')\n",
        "        plt.plot(thres_list, recall_list, '-.', label ='recall')\n",
        "        plt.plot(thres_list, precision_list, '-', label ='precision')\n",
        "        plt.plot(thres_list, f1_list, ':', label ='f1')\n",
        "        plt.plot(argmax_f1, max_f1,'bo-')\n",
        "        label = \"(\" + str(argmax_f1) + \", \" + str(round(max_f1,2)) + \")\"\n",
        "        plt.annotate(label, (argmax_f1, max_f1), textcoords=\"offset points\",\n",
        "                        xytext=(0,10), ha='center') \n",
        "\n",
        "        plt.xlabel(\"threshold\")\n",
        "        plt.ylabel(\"performance\")\n",
        "        plt.legend()\n",
        "        plt.title(subtype + ' Subtype : Performance At Different Threshold')\n",
        "        plt.show()\n",
        "    return argmax_f1, max_f1"
      ],
      "metadata": {
        "id": "N6xZfNO3WQp0"
      },
      "execution_count": null,
      "outputs": []
    },
    {
      "cell_type": "code",
      "source": [
        "def metrics(pred, true):\n",
        "    conf_matrix = confusion_matrix(true, pred)\n",
        "    tn, fp, fn, tp = conf_matrix.ravel()\n",
        "    accuracy = accuracy_score(true, pred)\n",
        "    precision = precision_score(true, pred)\n",
        "    recall = recall_score(true, pred)\n",
        "    f1 = f1_score(true, pred)\n",
        "    return round(accuracy,4), round(precision,4), round(recall,4), round(f1,4)"
      ],
      "metadata": {
        "id": "VU6Pao1RWQsy"
      },
      "execution_count": null,
      "outputs": []
    },
    {
      "cell_type": "code",
      "source": [
        "def Model_OverallPerformance(y_pred, y_true, adjustThreshold = True, Thresholdplot = False):\n",
        "    y_true_toxic = [row[0] for row in y_true]\n",
        "    y_true_severe_toxic = [row[1] for row in y_true]\n",
        "    y_true_obscene  = [row[2] for row in y_true]\n",
        "    y_true_threat = [row[3] for row in y_true]\n",
        "    y_true_insult = [row[4] for row in y_true]\n",
        "    y_true_identity_threat = [row[5] for row in y_true]\n",
        "\n",
        "    y_pred_toxic = [row[0] for row in y_pred]\n",
        "    y_pred_severe_toxic = [row[1] for row in y_pred]\n",
        "    y_pred_obscene  = [row[2] for row in y_pred]\n",
        "    y_pred_threat = [row[3] for row in y_pred]\n",
        "    y_pred_insult = [row[4] for row in y_pred]\n",
        "    y_pred_identity_threat = [row[5] for row in y_pred]\n",
        "\n",
        "    if adjustThreshold:\n",
        "        thresh_toxic, f1_toxic = chooseThreshold('Toxic', y_true_toxic, y_pred_toxic, Thresholdplot)\n",
        "        thresh_severe_toxic, f1_severe_toxic = chooseThreshold('Severe Toxic', y_true_severe_toxic, y_pred_severe_toxic, Thresholdplot)\n",
        "        thresh_obscene, f1_obscene = chooseThreshold('Obsence', y_true_obscene, y_pred_obscene, Thresholdplot)\n",
        "        thresh_threat, f1_threat = chooseThreshold('Threat', y_true_threat, y_pred_threat, Thresholdplot)\n",
        "        thresh_insult, f1_insult = chooseThreshold('Insult', y_true_insult, y_pred_insult, Thresholdplot)\n",
        "        thresh_identity_threat, f1_identity_threat = chooseThreshold('Identity Threat', y_true_identity_threat, y_pred_identity_threat, Thresholdplot)\n",
        "\n",
        "        y_pred_toxic = float_array_to_binary(y_pred_toxic, thresh_toxic)\n",
        "        y_pred_severe_toxic = float_array_to_binary(y_pred_severe_toxic, thresh_severe_toxic)\n",
        "        y_pred_obscene = float_array_to_binary(y_pred_obscene, thresh_obscene)\n",
        "        y_pred_threat = float_array_to_binary(y_pred_threat, thresh_threat)\n",
        "        y_pred_insult = float_array_to_binary(y_pred_insult, thresh_insult)\n",
        "        y_pred_identity_threat = float_array_to_binary(y_pred_identity_threat, thresh_identity_threat)\n",
        "\n",
        "    accuracy_toxic, precision_toxic, recall_toxic, f1_toxic = metrics(y_pred_toxic, y_true_toxic)\n",
        "    accuracy_severe_toxic, precision_severe_toxic, recall_severe_toxic, f1_severe_toxic = metrics(y_pred_severe_toxic, y_true_severe_toxic)\n",
        "    accuracy_obscene, precision_obscene, recall_obscene, f1_obscene = metrics(y_pred_obscene, y_true_obscene)\n",
        "    accuracy_threat, precision_threat, recall_threat, f1_threat = metrics(y_pred_threat, y_true_threat)\n",
        "    accuracy_insult, precision_insult, recall_insult, f1_insult = metrics(y_pred_insult, y_true_insult)\n",
        "    accuracy_identity_threat, precision_identity_threat, recall_identity_threat, f1_identity_threat = metrics(y_pred_identity_threat, y_true_identity_threat)\n",
        "\n",
        "\n",
        "    accuracy_list = [accuracy_toxic, accuracy_severe_toxic, accuracy_obscene, accuracy_threat,accuracy_insult, accuracy_identity_threat]\n",
        "    precision_list = [precision_toxic, precision_severe_toxic, precision_obscene, precision_threat,precision_insult, precision_identity_threat]\n",
        "    recall_list = [ recall_toxic,  recall_severe_toxic,  recall_obscene,  recall_threat, recall_insult,  recall_identity_threat]\n",
        "    f1_list = [f1_toxic, f1_severe_toxic, f1_obscene, f1_threat,f1_insult, f1_identity_threat]\n",
        "\n",
        "    subtypes = [\"Toxic\", \"Severe_Toxic\", \"Obscene\", \"Threat\", \"Insult\", \"Identity_Hate\"]\n",
        "    metric = ['Accuracy', 'Precision', 'Recall', 'F1']\n",
        "\n",
        "    metrics_df = pd.DataFrame(\n",
        "    data = [accuracy_list, precision_list, recall_list, f1_list],\n",
        "    columns = subtypes,\n",
        "    index = metric\n",
        "    )\n",
        "    print('\\n')\n",
        "\n",
        "    display(metrics_df)\n",
        "\n",
        "    print('\\n')\n",
        "    fig, ax = plt.subplots(figsize=(12, 6))\n",
        "    metrics_df.plot(kind='bar', rot=0, ax=ax, width=0.8, cmap='RdBu')\n",
        "\n",
        "    for i, j in enumerate(ax.patches):\n",
        "        ax.text(j.get_x() + j.get_width() / 2, j.get_height() + 0.01,\n",
        "                str(round(j.get_height(), 2)), ha='center')\n",
        "    plt.xlabel('Metrics')\n",
        "    plt.ylabel('Scores')\n",
        "    plt.title('Performance Metrics by Toxicity Type')\n",
        "    plt.tight_layout()\n",
        "    plt.show()"
      ],
      "metadata": {
        "id": "YDVN0v1LBQmv"
      },
      "execution_count": null,
      "outputs": []
    },
    {
      "cell_type": "code",
      "source": [
        "from keras import backend as K\n",
        "\n",
        "def recall_m(y_true, y_pred):\n",
        "    true_positives = K.sum(K.round(K.clip(y_true * y_pred, 0, 1)))\n",
        "    possible_positives = K.sum(K.round(K.clip(y_true, 0, 1)))\n",
        "    recall = true_positives / (possible_positives + K.epsilon())\n",
        "    return recall\n",
        "\n",
        "def precision_m(y_true, y_pred):\n",
        "    true_positives = K.sum(K.round(K.clip(y_true * y_pred, 0, 1)))\n",
        "    predicted_positives = K.sum(K.round(K.clip(y_pred, 0, 1)))\n",
        "    precision = true_positives / (predicted_positives + K.epsilon())\n",
        "    return precision\n",
        "\n",
        "def f1_m(y_true, y_pred):\n",
        "    precision = precision_m(y_true, y_pred)\n",
        "    recall = recall_m(y_true, y_pred)\n",
        "    return 2*((precision*recall)/(precision+recall+K.epsilon()))"
      ],
      "metadata": {
        "id": "mF2uRk9wbi2Z"
      },
      "execution_count": null,
      "outputs": []
    },
    {
      "cell_type": "markdown",
      "source": [
        "### VII. DNN Model"
      ],
      "metadata": {
        "id": "qgk1UZZWBs0D"
      }
    },
    {
      "cell_type": "code",
      "execution_count": null,
      "metadata": {
        "id": "AL_4SQJZJ9bq"
      },
      "outputs": [],
      "source": [
        "import sys, os, re, csv, codecs, numpy as np, pandas as pd\n",
        "\n",
        "from keras.layers import Dense, Input, LSTM, Embedding, Dropout, Activation\n",
        "from keras.layers import Bidirectional, GlobalMaxPool1D\n",
        "from keras.models import Model, Sequential\n",
        "from keras import initializers, regularizers, constraints, optimizers, layers"
      ]
    },
    {
      "cell_type": "code",
      "source": [
        "model_1 = Sequential([])\n",
        "model_1.add(layers.Input(shape = (maxlen, )))\n",
        "model_1.add(layers.Embedding(embedding_matrix.shape[0],\n",
        "                             embedding_matrix.shape[1],\n",
        "                             weights = [embedding_matrix]))\n",
        "model_1.add(layers.Flatten())\n",
        "model_1.add(layers.Dense(32, activation = 'relu'))\n",
        "model_1.add(layers.BatchNormalization())\n",
        "model_1.add(layers.Dropout(0.1))\n",
        "model_1.add(layers.Dense(16, activation = 'relu'))\n",
        "model_1.add(layers.BatchNormalization())\n",
        "model_1.add(layers.Dropout(0.1))\n",
        "model_1.add(layers.Dense(6, activation = 'sigmoid'))"
      ],
      "metadata": {
        "id": "rCMUs7eeBQpP"
      },
      "execution_count": null,
      "outputs": []
    },
    {
      "cell_type": "code",
      "source": [
        "model_1.summary()"
      ],
      "metadata": {
        "colab": {
          "base_uri": "https://localhost:8080/"
        },
        "id": "Q9KABmuOBQsH",
        "outputId": "150a5476-a112-4412-80e4-6309201bed10"
      },
      "execution_count": null,
      "outputs": [
        {
          "output_type": "stream",
          "name": "stdout",
          "text": [
            "Model: \"sequential_3\"\n",
            "_________________________________________________________________\n",
            " Layer (type)                Output Shape              Param #   \n",
            "=================================================================\n",
            " embedding_3 (Embedding)     (None, 50, 100)           2000000   \n",
            "                                                                 \n",
            " flatten_2 (Flatten)         (None, 5000)              0         \n",
            "                                                                 \n",
            " dense_6 (Dense)             (None, 32)                160032    \n",
            "                                                                 \n",
            " batch_normalization_2 (Batc  (None, 32)               128       \n",
            " hNormalization)                                                 \n",
            "                                                                 \n",
            " dropout_3 (Dropout)         (None, 32)                0         \n",
            "                                                                 \n",
            " dense_7 (Dense)             (None, 16)                528       \n",
            "                                                                 \n",
            " batch_normalization_3 (Batc  (None, 16)               64        \n",
            " hNormalization)                                                 \n",
            "                                                                 \n",
            " dropout_4 (Dropout)         (None, 16)                0         \n",
            "                                                                 \n",
            " dense_8 (Dense)             (None, 6)                 102       \n",
            "                                                                 \n",
            "=================================================================\n",
            "Total params: 2,160,854\n",
            "Trainable params: 2,160,758\n",
            "Non-trainable params: 96\n",
            "_________________________________________________________________\n"
          ]
        }
      ]
    },
    {
      "cell_type": "code",
      "source": [
        "model_1.compile(loss='binary_crossentropy', optimizer='adam', metrics=[f1_m])"
      ],
      "metadata": {
        "id": "Hccz6XwZM6ss"
      },
      "execution_count": null,
      "outputs": []
    },
    {
      "cell_type": "code",
      "source": [
        "model_1.fit(tokens_train, y_train, batch_size= 50, epochs= 10, validation_split=0.1);"
      ],
      "metadata": {
        "colab": {
          "base_uri": "https://localhost:8080/"
        },
        "id": "w41Zk42FD4xQ",
        "outputId": "bc9b2064-661b-4ed5-c0ae-b9ce91c8e0de"
      },
      "execution_count": null,
      "outputs": [
        {
          "output_type": "stream",
          "name": "stdout",
          "text": [
            "Epoch 1/10\n",
            "2298/2298 [==============================] - 45s 19ms/step - loss: 0.1433 - f1_m: 0.4498 - val_loss: 0.0689 - val_f1_m: 0.5735\n",
            "Epoch 2/10\n",
            "2298/2298 [==============================] - 42s 18ms/step - loss: 0.0601 - f1_m: 0.6486 - val_loss: 0.0616 - val_f1_m: 0.6208\n",
            "Epoch 3/10\n",
            "2298/2298 [==============================] - 40s 17ms/step - loss: 0.0508 - f1_m: 0.6934 - val_loss: 0.0617 - val_f1_m: 0.6426\n",
            "Epoch 4/10\n",
            "2298/2298 [==============================] - 45s 19ms/step - loss: 0.0439 - f1_m: 0.7342 - val_loss: 0.0647 - val_f1_m: 0.6528\n",
            "Epoch 5/10\n",
            "2298/2298 [==============================] - 39s 17ms/step - loss: 0.0382 - f1_m: 0.7694 - val_loss: 0.0723 - val_f1_m: 0.6237\n",
            "Epoch 6/10\n",
            "2298/2298 [==============================] - 39s 17ms/step - loss: 0.0339 - f1_m: 0.7971 - val_loss: 0.0812 - val_f1_m: 0.6367\n",
            "Epoch 7/10\n",
            "2298/2298 [==============================] - 38s 17ms/step - loss: 0.0307 - f1_m: 0.8148 - val_loss: 0.0840 - val_f1_m: 0.6318\n",
            "Epoch 8/10\n",
            "2298/2298 [==============================] - 40s 17ms/step - loss: 0.0279 - f1_m: 0.8347 - val_loss: 0.0864 - val_f1_m: 0.6245\n",
            "Epoch 9/10\n",
            "2298/2298 [==============================] - 39s 17ms/step - loss: 0.0254 - f1_m: 0.8481 - val_loss: 0.0918 - val_f1_m: 0.6211\n",
            "Epoch 10/10\n",
            "2298/2298 [==============================] - 39s 17ms/step - loss: 0.0233 - f1_m: 0.8611 - val_loss: 0.0922 - val_f1_m: 0.6349\n"
          ]
        }
      ]
    },
    {
      "cell_type": "code",
      "source": [
        "y_pred = model_1.predict([tokens_dev], batch_size=1024, verbose=1)"
      ],
      "metadata": {
        "colab": {
          "base_uri": "https://localhost:8080/"
        },
        "id": "Bh9UUj22EAc4",
        "outputId": "a26b7991-d1af-4375-f027-c57bb42085cf"
      },
      "execution_count": null,
      "outputs": [
        {
          "output_type": "stream",
          "name": "stdout",
          "text": [
            "32/32 [==============================] - 0s 8ms/step\n"
          ]
        }
      ]
    },
    {
      "cell_type": "code",
      "source": [
        "y_dev = y_dev.to_numpy()"
      ],
      "metadata": {
        "id": "BtXAvBK8VtEk"
      },
      "execution_count": null,
      "outputs": []
    },
    {
      "cell_type": "code",
      "source": [
        "Model_OverallPerformance(y_pred, y_dev)"
      ],
      "metadata": {
        "colab": {
          "base_uri": "https://localhost:8080/",
          "height": 708
        },
        "id": "WOLBaDKQUexh",
        "outputId": "5102fd24-89fb-423a-d417-f22f23802941"
      },
      "execution_count": null,
      "outputs": [
        {
          "output_type": "stream",
          "name": "stdout",
          "text": [
            "\n",
            "\n"
          ]
        },
        {
          "output_type": "display_data",
          "data": {
            "text/plain": [
              "            Toxic  Severe_Toxic  Obscene  Threat  Insult  Identity_Hate\n",
              "Accuracy   0.9488        0.9820   0.9756  0.9943  0.9656         0.9897\n",
              "Precision  0.7536        0.3107   0.8116  0.2394  0.6291         0.3977\n",
              "Recall     0.6786        0.6891   0.6952  0.3119  0.7226         0.3745\n",
              "F1         0.7142        0.4283   0.7489  0.2709  0.6726         0.3858"
            ],
            "text/html": [
              "\n",
              "  <div id=\"df-2704d903-e282-4e17-abb7-e2396dd3b893\">\n",
              "    <div class=\"colab-df-container\">\n",
              "      <div>\n",
              "<style scoped>\n",
              "    .dataframe tbody tr th:only-of-type {\n",
              "        vertical-align: middle;\n",
              "    }\n",
              "\n",
              "    .dataframe tbody tr th {\n",
              "        vertical-align: top;\n",
              "    }\n",
              "\n",
              "    .dataframe thead th {\n",
              "        text-align: right;\n",
              "    }\n",
              "</style>\n",
              "<table border=\"1\" class=\"dataframe\">\n",
              "  <thead>\n",
              "    <tr style=\"text-align: right;\">\n",
              "      <th></th>\n",
              "      <th>Toxic</th>\n",
              "      <th>Severe_Toxic</th>\n",
              "      <th>Obscene</th>\n",
              "      <th>Threat</th>\n",
              "      <th>Insult</th>\n",
              "      <th>Identity_Hate</th>\n",
              "    </tr>\n",
              "  </thead>\n",
              "  <tbody>\n",
              "    <tr>\n",
              "      <th>Accuracy</th>\n",
              "      <td>0.9488</td>\n",
              "      <td>0.9820</td>\n",
              "      <td>0.9756</td>\n",
              "      <td>0.9943</td>\n",
              "      <td>0.9656</td>\n",
              "      <td>0.9897</td>\n",
              "    </tr>\n",
              "    <tr>\n",
              "      <th>Precision</th>\n",
              "      <td>0.7536</td>\n",
              "      <td>0.3107</td>\n",
              "      <td>0.8116</td>\n",
              "      <td>0.2394</td>\n",
              "      <td>0.6291</td>\n",
              "      <td>0.3977</td>\n",
              "    </tr>\n",
              "    <tr>\n",
              "      <th>Recall</th>\n",
              "      <td>0.6786</td>\n",
              "      <td>0.6891</td>\n",
              "      <td>0.6952</td>\n",
              "      <td>0.3119</td>\n",
              "      <td>0.7226</td>\n",
              "      <td>0.3745</td>\n",
              "    </tr>\n",
              "    <tr>\n",
              "      <th>F1</th>\n",
              "      <td>0.7142</td>\n",
              "      <td>0.4283</td>\n",
              "      <td>0.7489</td>\n",
              "      <td>0.2709</td>\n",
              "      <td>0.6726</td>\n",
              "      <td>0.3858</td>\n",
              "    </tr>\n",
              "  </tbody>\n",
              "</table>\n",
              "</div>\n",
              "      <button class=\"colab-df-convert\" onclick=\"convertToInteractive('df-2704d903-e282-4e17-abb7-e2396dd3b893')\"\n",
              "              title=\"Convert this dataframe to an interactive table.\"\n",
              "              style=\"display:none;\">\n",
              "        \n",
              "  <svg xmlns=\"http://www.w3.org/2000/svg\" height=\"24px\"viewBox=\"0 0 24 24\"\n",
              "       width=\"24px\">\n",
              "    <path d=\"M0 0h24v24H0V0z\" fill=\"none\"/>\n",
              "    <path d=\"M18.56 5.44l.94 2.06.94-2.06 2.06-.94-2.06-.94-.94-2.06-.94 2.06-2.06.94zm-11 1L8.5 8.5l.94-2.06 2.06-.94-2.06-.94L8.5 2.5l-.94 2.06-2.06.94zm10 10l.94 2.06.94-2.06 2.06-.94-2.06-.94-.94-2.06-.94 2.06-2.06.94z\"/><path d=\"M17.41 7.96l-1.37-1.37c-.4-.4-.92-.59-1.43-.59-.52 0-1.04.2-1.43.59L10.3 9.45l-7.72 7.72c-.78.78-.78 2.05 0 2.83L4 21.41c.39.39.9.59 1.41.59.51 0 1.02-.2 1.41-.59l7.78-7.78 2.81-2.81c.8-.78.8-2.07 0-2.86zM5.41 20L4 18.59l7.72-7.72 1.47 1.35L5.41 20z\"/>\n",
              "  </svg>\n",
              "      </button>\n",
              "      \n",
              "  <style>\n",
              "    .colab-df-container {\n",
              "      display:flex;\n",
              "      flex-wrap:wrap;\n",
              "      gap: 12px;\n",
              "    }\n",
              "\n",
              "    .colab-df-convert {\n",
              "      background-color: #E8F0FE;\n",
              "      border: none;\n",
              "      border-radius: 50%;\n",
              "      cursor: pointer;\n",
              "      display: none;\n",
              "      fill: #1967D2;\n",
              "      height: 32px;\n",
              "      padding: 0 0 0 0;\n",
              "      width: 32px;\n",
              "    }\n",
              "\n",
              "    .colab-df-convert:hover {\n",
              "      background-color: #E2EBFA;\n",
              "      box-shadow: 0px 1px 2px rgba(60, 64, 67, 0.3), 0px 1px 3px 1px rgba(60, 64, 67, 0.15);\n",
              "      fill: #174EA6;\n",
              "    }\n",
              "\n",
              "    [theme=dark] .colab-df-convert {\n",
              "      background-color: #3B4455;\n",
              "      fill: #D2E3FC;\n",
              "    }\n",
              "\n",
              "    [theme=dark] .colab-df-convert:hover {\n",
              "      background-color: #434B5C;\n",
              "      box-shadow: 0px 1px 3px 1px rgba(0, 0, 0, 0.15);\n",
              "      filter: drop-shadow(0px 1px 2px rgba(0, 0, 0, 0.3));\n",
              "      fill: #FFFFFF;\n",
              "    }\n",
              "  </style>\n",
              "\n",
              "      <script>\n",
              "        const buttonEl =\n",
              "          document.querySelector('#df-2704d903-e282-4e17-abb7-e2396dd3b893 button.colab-df-convert');\n",
              "        buttonEl.style.display =\n",
              "          google.colab.kernel.accessAllowed ? 'block' : 'none';\n",
              "\n",
              "        async function convertToInteractive(key) {\n",
              "          const element = document.querySelector('#df-2704d903-e282-4e17-abb7-e2396dd3b893');\n",
              "          const dataTable =\n",
              "            await google.colab.kernel.invokeFunction('convertToInteractive',\n",
              "                                                     [key], {});\n",
              "          if (!dataTable) return;\n",
              "\n",
              "          const docLinkHtml = 'Like what you see? Visit the ' +\n",
              "            '<a target=\"_blank\" href=https://colab.research.google.com/notebooks/data_table.ipynb>data table notebook</a>'\n",
              "            + ' to learn more about interactive tables.';\n",
              "          element.innerHTML = '';\n",
              "          dataTable['output_type'] = 'display_data';\n",
              "          await google.colab.output.renderOutput(dataTable, element);\n",
              "          const docLink = document.createElement('div');\n",
              "          docLink.innerHTML = docLinkHtml;\n",
              "          element.appendChild(docLink);\n",
              "        }\n",
              "      </script>\n",
              "    </div>\n",
              "  </div>\n",
              "  "
            ]
          },
          "metadata": {}
        },
        {
          "output_type": "stream",
          "name": "stdout",
          "text": [
            "\n",
            "\n"
          ]
        },
        {
          "output_type": "display_data",
          "data": {
            "text/plain": [
              "<Figure size 1200x600 with 1 Axes>"
            ],
            "image/png": "[encoded data removed]"
          },
          "metadata": {}
        }
      ]
    },
    {
      "cell_type": "markdown",
      "source": [
        "From the result, we could see that the DNN model does not perform very well on rare subtypes such as severe toxic, threat, and identity hate."
      ],
      "metadata": {
        "id": "MKgA2nS2vYS9"
      }
    },
    {
      "cell_type": "markdown",
      "source": [
        "### VIII. CNN Model"
      ],
      "metadata": {
        "id": "XVTSI-OjWpuP"
      }
    },
    {
      "cell_type": "code",
      "source": [
        "model_2 = Sequential([])\n",
        "model_2.add(layers.Input(shape = (maxlen, )))\n",
        "model_2.add(layers.Embedding(embedding_matrix.shape[0],\n",
        "                             embedding_matrix.shape[1],\n",
        "                             weights = [embedding_matrix]))\n",
        "model_2.add(layers.Conv1D(128, 5, activation = 'relu'))\n",
        "model_2.add(layers.GlobalMaxPool1D())\n",
        "model_2.add(layers.Dense(50, activation = 'relu'))\n",
        "model_2.add(layers.Dropout(0.1))\n",
        "model_2.add(layers.Dense(6, activation = 'sigmoid'))"
      ],
      "metadata": {
        "id": "2XHi6Qp4Vo08"
      },
      "execution_count": null,
      "outputs": []
    },
    {
      "cell_type": "code",
      "source": [
        "model_2.summary()"
      ],
      "metadata": {
        "colab": {
          "base_uri": "https://localhost:8080/"
        },
        "id": "Vf2YxSFTY1my",
        "outputId": "94904e97-b6ab-4fed-9547-b6d9e540fd63"
      },
      "execution_count": null,
      "outputs": [
        {
          "output_type": "stream",
          "name": "stdout",
          "text": [
            "Model: \"sequential_10\"\n",
            "_________________________________________________________________\n",
            " Layer (type)                Output Shape              Param #   \n",
            "=================================================================\n",
            " embedding_10 (Embedding)    (None, 50, 100)           2000000   \n",
            "                                                                 \n",
            " conv1d_7 (Conv1D)           (None, 46, 128)           64128     \n",
            "                                                                 \n",
            " global_max_pooling1d_6 (Glo  (None, 128)              0         \n",
            " balMaxPooling1D)                                                \n",
            "                                                                 \n",
            " dense_17 (Dense)            (None, 50)                6450      \n",
            "                                                                 \n",
            " dropout_9 (Dropout)         (None, 50)                0         \n",
            "                                                                 \n",
            " dense_18 (Dense)            (None, 6)                 306       \n",
            "                                                                 \n",
            "=================================================================\n",
            "Total params: 2,070,884\n",
            "Trainable params: 2,070,884\n",
            "Non-trainable params: 0\n",
            "_________________________________________________________________\n"
          ]
        }
      ]
    },
    {
      "cell_type": "code",
      "source": [
        "model_2.compile(loss='binary_crossentropy', optimizer='adam', metrics=[f1_m])"
      ],
      "metadata": {
        "id": "oogNTlN4Y3eY"
      },
      "execution_count": null,
      "outputs": []
    },
    {
      "cell_type": "code",
      "source": [
        "model_2.fit(tokens_train, y_train, batch_size= 50, epochs= 5, validation_split=0.1);"
      ],
      "metadata": {
        "colab": {
          "base_uri": "https://localhost:8080/"
        },
        "id": "XD0DjDhNa61e",
        "outputId": "f8a1ddc0-56d5-4295-b957-30ac9d04b510"
      },
      "execution_count": null,
      "outputs": [
        {
          "output_type": "stream",
          "name": "stdout",
          "text": [
            "Epoch 1/5\n",
            "2298/2298 [==============================] - 90s 39ms/step - loss: 0.0623 - f1_m: 0.6171 - val_loss: 0.0519 - val_f1_m: 0.6548\n",
            "Epoch 2/5\n",
            "2298/2298 [==============================] - 89s 39ms/step - loss: 0.0461 - f1_m: 0.7077 - val_loss: 0.0518 - val_f1_m: 0.6823\n",
            "Epoch 3/5\n",
            "2298/2298 [==============================] - 94s 41ms/step - loss: 0.0385 - f1_m: 0.7484 - val_loss: 0.0558 - val_f1_m: 0.6935\n",
            "Epoch 4/5\n",
            "2298/2298 [==============================] - 76s 33ms/step - loss: 0.0314 - f1_m: 0.7929 - val_loss: 0.0648 - val_f1_m: 0.6828\n",
            "Epoch 5/5\n",
            "2298/2298 [==============================] - 75s 33ms/step - loss: 0.0255 - f1_m: 0.8401 - val_loss: 0.0654 - val_f1_m: 0.6833\n"
          ]
        }
      ]
    },
    {
      "cell_type": "code",
      "source": [
        "y_pred = model_2.predict([tokens_dev], batch_size=50, verbose=1)"
      ],
      "metadata": {
        "colab": {
          "base_uri": "https://localhost:8080/"
        },
        "id": "GPIWEQXlYY2R",
        "outputId": "673e2ec8-3cd6-4308-b041-f4456bbea6e8"
      },
      "execution_count": null,
      "outputs": [
        {
          "output_type": "stream",
          "name": "stdout",
          "text": [
            "639/639 [==============================] - 6s 9ms/step\n"
          ]
        }
      ]
    },
    {
      "cell_type": "code",
      "source": [
        "Model_OverallPerformance(y_pred, y_dev)"
      ],
      "metadata": {
        "colab": {
          "base_uri": "https://localhost:8080/",
          "height": 799
        },
        "id": "QPNBaImbYaWr",
        "outputId": "1050d054-747b-4891-dfce-e3d0f90b9749"
      },
      "execution_count": null,
      "outputs": [
        {
          "output_type": "stream",
          "name": "stderr",
          "text": [
            "/usr/local/lib/python3.10/dist-packages/sklearn/metrics/_classification.py:1344: UndefinedMetricWarning: Precision is ill-defined and being set to 0.0 due to no predicted samples. Use `zero_division` parameter to control this behavior.\n",
            "  _warn_prf(average, modifier, msg_start, len(result))\n",
            "/usr/local/lib/python3.10/dist-packages/sklearn/metrics/_classification.py:1344: UndefinedMetricWarning: Precision is ill-defined and being set to 0.0 due to no predicted samples. Use `zero_division` parameter to control this behavior.\n",
            "  _warn_prf(average, modifier, msg_start, len(result))\n"
          ]
        },
        {
          "output_type": "stream",
          "name": "stdout",
          "text": [
            "\n",
            "\n"
          ]
        },
        {
          "output_type": "display_data",
          "data": {
            "text/plain": [
              "            Toxic  Severe_Toxic  Obscene  Threat  Insult  Identity_Hate\n",
              "Accuracy   0.9556        0.9854   0.9791  0.9964  0.9714         0.9917\n",
              "Precision  0.7860        0.3590   0.8371  0.4732  0.7014         0.5169\n",
              "Recall     0.7259        0.6282   0.7466  0.4862  0.7239         0.5018\n",
              "F1         0.7548        0.4569   0.7893  0.4796  0.7125         0.5092"
            ],
            "text/html": [
              "\n",
              "  <div id=\"df-6fea360c-a961-4f92-b9dd-03532a9b5680\">\n",
              "    <div class=\"colab-df-container\">\n",
              "      <div>\n",
              "<style scoped>\n",
              "    .dataframe tbody tr th:only-of-type {\n",
              "        vertical-align: middle;\n",
              "    }\n",
              "\n",
              "    .dataframe tbody tr th {\n",
              "        vertical-align: top;\n",
              "    }\n",
              "\n",
              "    .dataframe thead th {\n",
              "        text-align: right;\n",
              "    }\n",
              "</style>\n",
              "<table border=\"1\" class=\"dataframe\">\n",
              "  <thead>\n",
              "    <tr style=\"text-align: right;\">\n",
              "      <th></th>\n",
              "      <th>Toxic</th>\n",
              "      <th>Severe_Toxic</th>\n",
              "      <th>Obscene</th>\n",
              "      <th>Threat</th>\n",
              "      <th>Insult</th>\n",
              "      <th>Identity_Hate</th>\n",
              "    </tr>\n",
              "  </thead>\n",
              "  <tbody>\n",
              "    <tr>\n",
              "      <th>Accuracy</th>\n",
              "      <td>0.9556</td>\n",
              "      <td>0.9854</td>\n",
              "      <td>0.9791</td>\n",
              "      <td>0.9964</td>\n",
              "      <td>0.9714</td>\n",
              "      <td>0.9917</td>\n",
              "    </tr>\n",
              "    <tr>\n",
              "      <th>Precision</th>\n",
              "      <td>0.7860</td>\n",
              "      <td>0.3590</td>\n",
              "      <td>0.8371</td>\n",
              "      <td>0.4732</td>\n",
              "      <td>0.7014</td>\n",
              "      <td>0.5169</td>\n",
              "    </tr>\n",
              "    <tr>\n",
              "      <th>Recall</th>\n",
              "      <td>0.7259</td>\n",
              "      <td>0.6282</td>\n",
              "      <td>0.7466</td>\n",
              "      <td>0.4862</td>\n",
              "      <td>0.7239</td>\n",
              "      <td>0.5018</td>\n",
              "    </tr>\n",
              "    <tr>\n",
              "      <th>F1</th>\n",
              "      <td>0.7548</td>\n",
              "      <td>0.4569</td>\n",
              "      <td>0.7893</td>\n",
              "      <td>0.4796</td>\n",
              "      <td>0.7125</td>\n",
              "      <td>0.5092</td>\n",
              "    </tr>\n",
              "  </tbody>\n",
              "</table>\n",
              "</div>\n",
              "      <button class=\"colab-df-convert\" onclick=\"convertToInteractive('df-6fea360c-a961-4f92-b9dd-03532a9b5680')\"\n",
              "              title=\"Convert this dataframe to an interactive table.\"\n",
              "              style=\"display:none;\">\n",
              "        \n",
              "  <svg xmlns=\"http://www.w3.org/2000/svg\" height=\"24px\"viewBox=\"0 0 24 24\"\n",
              "       width=\"24px\">\n",
              "    <path d=\"M0 0h24v24H0V0z\" fill=\"none\"/>\n",
              "    <path d=\"M18.56 5.44l.94 2.06.94-2.06 2.06-.94-2.06-.94-.94-2.06-.94 2.06-2.06.94zm-11 1L8.5 8.5l.94-2.06 2.06-.94-2.06-.94L8.5 2.5l-.94 2.06-2.06.94zm10 10l.94 2.06.94-2.06 2.06-.94-2.06-.94-.94-2.06-.94 2.06-2.06.94z\"/><path d=\"M17.41 7.96l-1.37-1.37c-.4-.4-.92-.59-1.43-.59-.52 0-1.04.2-1.43.59L10.3 9.45l-7.72 7.72c-.78.78-.78 2.05 0 2.83L4 21.41c.39.39.9.59 1.41.59.51 0 1.02-.2 1.41-.59l7.78-7.78 2.81-2.81c.8-.78.8-2.07 0-2.86zM5.41 20L4 18.59l7.72-7.72 1.47 1.35L5.41 20z\"/>\n",
              "  </svg>\n",
              "      </button>\n",
              "      \n",
              "  <style>\n",
              "    .colab-df-container {\n",
              "      display:flex;\n",
              "      flex-wrap:wrap;\n",
              "      gap: 12px;\n",
              "    }\n",
              "\n",
              "    .colab-df-convert {\n",
              "      background-color: #E8F0FE;\n",
              "      border: none;\n",
              "      border-radius: 50%;\n",
              "      cursor: pointer;\n",
              "      display: none;\n",
              "      fill: #1967D2;\n",
              "      height: 32px;\n",
              "      padding: 0 0 0 0;\n",
              "      width: 32px;\n",
              "    }\n",
              "\n",
              "    .colab-df-convert:hover {\n",
              "      background-color: #E2EBFA;\n",
              "      box-shadow: 0px 1px 2px rgba(60, 64, 67, 0.3), 0px 1px 3px 1px rgba(60, 64, 67, 0.15);\n",
              "      fill: #174EA6;\n",
              "    }\n",
              "\n",
              "    [theme=dark] .colab-df-convert {\n",
              "      background-color: #3B4455;\n",
              "      fill: #D2E3FC;\n",
              "    }\n",
              "\n",
              "    [theme=dark] .colab-df-convert:hover {\n",
              "      background-color: #434B5C;\n",
              "      box-shadow: 0px 1px 3px 1px rgba(0, 0, 0, 0.15);\n",
              "      filter: drop-shadow(0px 1px 2px rgba(0, 0, 0, 0.3));\n",
              "      fill: #FFFFFF;\n",
              "    }\n",
              "  </style>\n",
              "\n",
              "      <script>\n",
              "        const buttonEl =\n",
              "          document.querySelector('#df-6fea360c-a961-4f92-b9dd-03532a9b5680 button.colab-df-convert');\n",
              "        buttonEl.style.display =\n",
              "          google.colab.kernel.accessAllowed ? 'block' : 'none';\n",
              "\n",
              "        async function convertToInteractive(key) {\n",
              "          const element = document.querySelector('#df-6fea360c-a961-4f92-b9dd-03532a9b5680');\n",
              "          const dataTable =\n",
              "            await google.colab.kernel.invokeFunction('convertToInteractive',\n",
              "                                                     [key], {});\n",
              "          if (!dataTable) return;\n",
              "\n",
              "          const docLinkHtml = 'Like what you see? Visit the ' +\n",
              "            '<a target=\"_blank\" href=https://colab.research.google.com/notebooks/data_table.ipynb>data table notebook</a>'\n",
              "            + ' to learn more about interactive tables.';\n",
              "          element.innerHTML = '';\n",
              "          dataTable['output_type'] = 'display_data';\n",
              "          await google.colab.output.renderOutput(dataTable, element);\n",
              "          const docLink = document.createElement('div');\n",
              "          docLink.innerHTML = docLinkHtml;\n",
              "          element.appendChild(docLink);\n",
              "        }\n",
              "      </script>\n",
              "    </div>\n",
              "  </div>\n",
              "  "
            ]
          },
          "metadata": {}
        },
        {
          "output_type": "stream",
          "name": "stdout",
          "text": [
            "\n",
            "\n"
          ]
        },
        {
          "output_type": "display_data",
          "data": {
            "text/plain": [
              "<Figure size 1200x600 with 1 Axes>"
            ],
            "image/png": "[encoded data removed]"
          },
          "metadata": {}
        }
      ]
    },
    {
      "cell_type": "markdown",
      "source": [
        "The CNN model performs much better than the DNN model, with significant improvement on rare subtypes."
      ],
      "metadata": {
        "id": "JcEBVZTPwOcb"
      }
    },
    {
      "cell_type": "markdown",
      "source": [
        "### IX.CNN + LSTM Model"
      ],
      "metadata": {
        "id": "1hlZ6iolrpT5"
      }
    },
    {
      "cell_type": "code",
      "source": [
        "model_3 = Sequential([])\n",
        "model_3.add(layers.Input(shape = (maxlen, )))\n",
        "model_3.add(layers.Embedding(embedding_matrix.shape[0],\n",
        "                             embedding_matrix.shape[1],\n",
        "                             weights = [embedding_matrix]))\n",
        "model_3.add(layers.Conv1D(128, 5, activation = 'relu'))\n",
        "model_3.add(layers.MaxPool1D())\n",
        "model_3.add(layers.LSTM(64))\n",
        "model_3.add(layers.BatchNormalization())\n",
        "model_3.add(layers.Dense(50, activation = 'relu'))\n",
        "model_3.add(layers.Dropout(0.1))\n",
        "model_3.add(layers.Dense(6, activation = 'sigmoid'))"
      ],
      "metadata": {
        "id": "DHx05hZJrkBG"
      },
      "execution_count": null,
      "outputs": []
    },
    {
      "cell_type": "code",
      "source": [
        "model_3.summary()"
      ],
      "metadata": {
        "colab": {
          "base_uri": "https://localhost:8080/"
        },
        "id": "1xtpv13NrkEE",
        "outputId": "64444464-adaa-4c30-9fb3-1d3d35a43bfc"
      },
      "execution_count": null,
      "outputs": [
        {
          "output_type": "stream",
          "name": "stdout",
          "text": [
            "Model: \"sequential_14\"\n",
            "_________________________________________________________________\n",
            " Layer (type)                Output Shape              Param #   \n",
            "=================================================================\n",
            " embedding_14 (Embedding)    (None, 50, 100)           2000000   \n",
            "                                                                 \n",
            " conv1d_11 (Conv1D)          (None, 46, 128)           64128     \n",
            "                                                                 \n",
            " max_pooling1d_4 (MaxPooling  (None, 23, 128)          0         \n",
            " 1D)                                                             \n",
            "                                                                 \n",
            " lstm_4 (LSTM)               (None, 64)                49408     \n",
            "                                                                 \n",
            " batch_normalization_7 (Batc  (None, 64)               256       \n",
            " hNormalization)                                                 \n",
            "                                                                 \n",
            " dense_23 (Dense)            (None, 50)                3250      \n",
            "                                                                 \n",
            " dropout_12 (Dropout)        (None, 50)                0         \n",
            "                                                                 \n",
            " dense_24 (Dense)            (None, 6)                 306       \n",
            "                                                                 \n",
            "=================================================================\n",
            "Total params: 2,117,348\n",
            "Trainable params: 2,117,220\n",
            "Non-trainable params: 128\n",
            "_________________________________________________________________\n"
          ]
        }
      ]
    },
    {
      "cell_type": "code",
      "source": [
        "model_3.compile(loss='binary_crossentropy', optimizer='adam', metrics=[f1_m])"
      ],
      "metadata": {
        "id": "1QrLuwbMxGT5"
      },
      "execution_count": null,
      "outputs": []
    },
    {
      "cell_type": "code",
      "source": [
        "model_3.fit(tokens_train, y_train, batch_size= 50, epochs= 5, validation_split=0.1);"
      ],
      "metadata": {
        "colab": {
          "base_uri": "https://localhost:8080/"
        },
        "id": "PJh1E7bOrkHX",
        "outputId": "3ff2e63f-45bc-4845-c727-85046cbfb48e"
      },
      "execution_count": null,
      "outputs": [
        {
          "output_type": "stream",
          "name": "stdout",
          "text": [
            "Epoch 1/5\n",
            "2298/2298 [==============================] - 123s 52ms/step - loss: 0.0717 - f1_m: 0.6101 - val_loss: 0.0528 - val_f1_m: 0.6904\n",
            "Epoch 2/5\n",
            "2298/2298 [==============================] - 118s 51ms/step - loss: 0.0503 - f1_m: 0.6966 - val_loss: 0.0515 - val_f1_m: 0.6980\n",
            "Epoch 3/5\n",
            "2298/2298 [==============================] - 116s 51ms/step - loss: 0.0437 - f1_m: 0.7276 - val_loss: 0.0546 - val_f1_m: 0.6912\n",
            "Epoch 4/5\n",
            "2298/2298 [==============================] - 116s 51ms/step - loss: 0.0370 - f1_m: 0.7633 - val_loss: 0.0565 - val_f1_m: 0.7052\n",
            "Epoch 5/5\n",
            "2096/2298 [==========================>...] - ETA: 10s - loss: 0.0308 - f1_m: 0.8095"
          ]
        }
      ]
    },
    {
      "cell_type": "code",
      "source": [
        "y_pred = model_3.predict([tokens_dev], batch_size=50, verbose=1)"
      ],
      "metadata": {
        "colab": {
          "base_uri": "https://localhost:8080/"
        },
        "id": "DNbXPW__rkKK",
        "outputId": "deb24ee3-2d13-4de4-8870-0c750a0dcc50"
      },
      "execution_count": null,
      "outputs": [
        {
          "output_type": "stream",
          "name": "stdout",
          "text": [
            "639/639 [==============================] - 11s 17ms/step\n"
          ]
        }
      ]
    },
    {
      "cell_type": "code",
      "source": [
        "Model_OverallPerformance(y_pred, y_dev)"
      ],
      "metadata": {
        "colab": {
          "base_uri": "https://localhost:8080/",
          "height": 799
        },
        "id": "hh-2Rzd2rkMy",
        "outputId": "3fe92246-e50a-4576-d2a8-e3042e4d5169"
      },
      "execution_count": null,
      "outputs": [
        {
          "output_type": "stream",
          "name": "stderr",
          "text": [
            "/usr/local/lib/python3.10/dist-packages/sklearn/metrics/_classification.py:1344: UndefinedMetricWarning: Precision is ill-defined and being set to 0.0 due to no predicted samples. Use `zero_division` parameter to control this behavior.\n",
            "  _warn_prf(average, modifier, msg_start, len(result))\n",
            "/usr/local/lib/python3.10/dist-packages/sklearn/metrics/_classification.py:1344: UndefinedMetricWarning: Precision is ill-defined and being set to 0.0 due to no predicted samples. Use `zero_division` parameter to control this behavior.\n",
            "  _warn_prf(average, modifier, msg_start, len(result))\n"
          ]
        },
        {
          "output_type": "stream",
          "name": "stdout",
          "text": [
            "\n",
            "\n"
          ]
        },
        {
          "output_type": "display_data",
          "data": {
            "text/plain": [
              "            Toxic  Severe_Toxic  Obscene  Threat  Insult  Identity_Hate\n",
              "Accuracy   0.9580        0.9872   0.9789  0.9967  0.9692         0.9916\n",
              "Precision  0.8040        0.3996   0.8051  0.5263  0.6590         0.5169\n",
              "Recall     0.7329        0.6122   0.7878  0.2752  0.7662         0.4436\n",
              "F1         0.7668        0.4835   0.7964  0.3614  0.7085         0.4775"
            ],
            "text/html": [
              "\n",
              "  <div id=\"df-254c1338-b3cb-4ada-83ae-072dd2096f07\">\n",
              "    <div class=\"colab-df-container\">\n",
              "      <div>\n",
              "<style scoped>\n",
              "    .dataframe tbody tr th:only-of-type {\n",
              "        vertical-align: middle;\n",
              "    }\n",
              "\n",
              "    .dataframe tbody tr th {\n",
              "        vertical-align: top;\n",
              "    }\n",
              "\n",
              "    .dataframe thead th {\n",
              "        text-align: right;\n",
              "    }\n",
              "</style>\n",
              "<table border=\"1\" class=\"dataframe\">\n",
              "  <thead>\n",
              "    <tr style=\"text-align: right;\">\n",
              "      <th></th>\n",
              "      <th>Toxic</th>\n",
              "      <th>Severe_Toxic</th>\n",
              "      <th>Obscene</th>\n",
              "      <th>Threat</th>\n",
              "      <th>Insult</th>\n",
              "      <th>Identity_Hate</th>\n",
              "    </tr>\n",
              "  </thead>\n",
              "  <tbody>\n",
              "    <tr>\n",
              "      <th>Accuracy</th>\n",
              "      <td>0.9580</td>\n",
              "      <td>0.9872</td>\n",
              "      <td>0.9789</td>\n",
              "      <td>0.9967</td>\n",
              "      <td>0.9692</td>\n",
              "      <td>0.9916</td>\n",
              "    </tr>\n",
              "    <tr>\n",
              "      <th>Precision</th>\n",
              "      <td>0.8040</td>\n",
              "      <td>0.3996</td>\n",
              "      <td>0.8051</td>\n",
              "      <td>0.5263</td>\n",
              "      <td>0.6590</td>\n",
              "      <td>0.5169</td>\n",
              "    </tr>\n",
              "    <tr>\n",
              "      <th>Recall</th>\n",
              "      <td>0.7329</td>\n",
              "      <td>0.6122</td>\n",
              "      <td>0.7878</td>\n",
              "      <td>0.2752</td>\n",
              "      <td>0.7662</td>\n",
              "      <td>0.4436</td>\n",
              "    </tr>\n",
              "    <tr>\n",
              "      <th>F1</th>\n",
              "      <td>0.7668</td>\n",
              "      <td>0.4835</td>\n",
              "      <td>0.7964</td>\n",
              "      <td>0.3614</td>\n",
              "      <td>0.7085</td>\n",
              "      <td>0.4775</td>\n",
              "    </tr>\n",
              "  </tbody>\n",
              "</table>\n",
              "</div>\n",
              "      <button class=\"colab-df-convert\" onclick=\"convertToInteractive('df-254c1338-b3cb-4ada-83ae-072dd2096f07')\"\n",
              "              title=\"Convert this dataframe to an interactive table.\"\n",
              "              style=\"display:none;\">\n",
              "        \n",
              "  <svg xmlns=\"http://www.w3.org/2000/svg\" height=\"24px\"viewBox=\"0 0 24 24\"\n",
              "       width=\"24px\">\n",
              "    <path d=\"M0 0h24v24H0V0z\" fill=\"none\"/>\n",
              "    <path d=\"M18.56 5.44l.94 2.06.94-2.06 2.06-.94-2.06-.94-.94-2.06-.94 2.06-2.06.94zm-11 1L8.5 8.5l.94-2.06 2.06-.94-2.06-.94L8.5 2.5l-.94 2.06-2.06.94zm10 10l.94 2.06.94-2.06 2.06-.94-2.06-.94-.94-2.06-.94 2.06-2.06.94z\"/><path d=\"M17.41 7.96l-1.37-1.37c-.4-.4-.92-.59-1.43-.59-.52 0-1.04.2-1.43.59L10.3 9.45l-7.72 7.72c-.78.78-.78 2.05 0 2.83L4 21.41c.39.39.9.59 1.41.59.51 0 1.02-.2 1.41-.59l7.78-7.78 2.81-2.81c.8-.78.8-2.07 0-2.86zM5.41 20L4 18.59l7.72-7.72 1.47 1.35L5.41 20z\"/>\n",
              "  </svg>\n",
              "      </button>\n",
              "      \n",
              "  <style>\n",
              "    .colab-df-container {\n",
              "      display:flex;\n",
              "      flex-wrap:wrap;\n",
              "      gap: 12px;\n",
              "    }\n",
              "\n",
              "    .colab-df-convert {\n",
              "      background-color: #E8F0FE;\n",
              "      border: none;\n",
              "      border-radius: 50%;\n",
              "      cursor: pointer;\n",
              "      display: none;\n",
              "      fill: #1967D2;\n",
              "      height: 32px;\n",
              "      padding: 0 0 0 0;\n",
              "      width: 32px;\n",
              "    }\n",
              "\n",
              "    .colab-df-convert:hover {\n",
              "      background-color: #E2EBFA;\n",
              "      box-shadow: 0px 1px 2px rgba(60, 64, 67, 0.3), 0px 1px 3px 1px rgba(60, 64, 67, 0.15);\n",
              "      fill: #174EA6;\n",
              "    }\n",
              "\n",
              "    [theme=dark] .colab-df-convert {\n",
              "      background-color: #3B4455;\n",
              "      fill: #D2E3FC;\n",
              "    }\n",
              "\n",
              "    [theme=dark] .colab-df-convert:hover {\n",
              "      background-color: #434B5C;\n",
              "      box-shadow: 0px 1px 3px 1px rgba(0, 0, 0, 0.15);\n",
              "      filter: drop-shadow(0px 1px 2px rgba(0, 0, 0, 0.3));\n",
              "      fill: #FFFFFF;\n",
              "    }\n",
              "  </style>\n",
              "\n",
              "      <script>\n",
              "        const buttonEl =\n",
              "          document.querySelector('#df-254c1338-b3cb-4ada-83ae-072dd2096f07 button.colab-df-convert');\n",
              "        buttonEl.style.display =\n",
              "          google.colab.kernel.accessAllowed ? 'block' : 'none';\n",
              "\n",
              "        async function convertToInteractive(key) {\n",
              "          const element = document.querySelector('#df-254c1338-b3cb-4ada-83ae-072dd2096f07');\n",
              "          const dataTable =\n",
              "            await google.colab.kernel.invokeFunction('convertToInteractive',\n",
              "                                                     [key], {});\n",
              "          if (!dataTable) return;\n",
              "\n",
              "          const docLinkHtml = 'Like what you see? Visit the ' +\n",
              "            '<a target=\"_blank\" href=https://colab.research.google.com/notebooks/data_table.ipynb>data table notebook</a>'\n",
              "            + ' to learn more about interactive tables.';\n",
              "          element.innerHTML = '';\n",
              "          dataTable['output_type'] = 'display_data';\n",
              "          await google.colab.output.renderOutput(dataTable, element);\n",
              "          const docLink = document.createElement('div');\n",
              "          docLink.innerHTML = docLinkHtml;\n",
              "          element.appendChild(docLink);\n",
              "        }\n",
              "      </script>\n",
              "    </div>\n",
              "  </div>\n",
              "  "
            ]
          },
          "metadata": {}
        },
        {
          "output_type": "stream",
          "name": "stdout",
          "text": [
            "\n",
            "\n"
          ]
        },
        {
          "output_type": "display_data",
          "data": {
            "text/plain": [
              "<Figure size 1200x600 with 1 Axes>"
            ],
            "image/png": "[encoded data removed]"
          },
          "metadata": {}
        }
      ]
    },
    {
      "cell_type": "markdown",
      "source": [
        "The CNN + LSTM model does not perform better than the CNN model."
      ],
      "metadata": {
        "id": "xKG8qsQdxtUa"
      }
    },
    {
      "cell_type": "markdown",
      "source": [
        "### X. RNN BLSTM Models"
      ],
      "metadata": {
        "id": "EuBo1lYUu9uO"
      }
    },
    {
      "cell_type": "code",
      "source": [
        "## 1 layer of BLSTM\n",
        "model_4 = Sequential([])\n",
        "\n",
        "model_4.add(layers.Input(shape=(maxlen,)))\n",
        "model_4.add(layers.Embedding(embedding_matrix.shape[0], \n",
        "                           embedding_matrix.shape[1], \n",
        "                           weights=[embedding_matrix]))\n",
        "model_4.add(layers.Bidirectional(layers.LSTM(50,  return_sequences=True)))\n",
        "model_4.add(layers.GlobalMaxPool1D())\n",
        "model_4.add(layers.Dense(50, activation='relu'))\n",
        "model_4.add(layers.Dropout(0.1))\n",
        "model_4.add(layers.Dense(6, activation=\"sigmoid\"))"
      ],
      "metadata": {
        "id": "s9j3uBXprkPP"
      },
      "execution_count": null,
      "outputs": []
    },
    {
      "cell_type": "code",
      "source": [
        "model_4.summary()"
      ],
      "metadata": {
        "colab": {
          "base_uri": "https://localhost:8080/"
        },
        "id": "Jt-Usmq9vmS6",
        "outputId": "812a55f6-e2ec-4792-cce3-2245c392d857"
      },
      "execution_count": null,
      "outputs": [
        {
          "output_type": "stream",
          "name": "stdout",
          "text": [
            "Model: \"sequential_15\"\n",
            "_________________________________________________________________\n",
            " Layer (type)                Output Shape              Param #   \n",
            "=================================================================\n",
            " embedding_15 (Embedding)    (None, 50, 100)           2000000   \n",
            "                                                                 \n",
            " bidirectional (Bidirectiona  (None, 50, 100)          60400     \n",
            " l)                                                              \n",
            "                                                                 \n",
            " global_max_pooling1d_7 (Glo  (None, 100)              0         \n",
            " balMaxPooling1D)                                                \n",
            "                                                                 \n",
            " dense_25 (Dense)            (None, 50)                5050      \n",
            "                                                                 \n",
            " dropout_13 (Dropout)        (None, 50)                0         \n",
            "                                                                 \n",
            " dense_26 (Dense)            (None, 6)                 306       \n",
            "                                                                 \n",
            "=================================================================\n",
            "Total params: 2,065,756\n",
            "Trainable params: 2,065,756\n",
            "Non-trainable params: 0\n",
            "_________________________________________________________________\n"
          ]
        }
      ]
    },
    {
      "cell_type": "code",
      "source": [
        "model_4.compile(loss='binary_crossentropy', optimizer='adam', metrics=[f1_m])"
      ],
      "metadata": {
        "id": "6KgN7fTFvqjE"
      },
      "execution_count": null,
      "outputs": []
    },
    {
      "cell_type": "code",
      "source": [
        "model_4.fit(tokens_train, y_train, batch_size= 50, epochs= 5, validation_split=0.1);"
      ],
      "metadata": {
        "colab": {
          "base_uri": "https://localhost:8080/"
        },
        "id": "VbIo2VAyvrkI",
        "outputId": "b281431c-53c4-4d40-fcfd-d0d405d0acf6"
      },
      "execution_count": null,
      "outputs": [
        {
          "output_type": "stream",
          "name": "stdout",
          "text": [
            "Epoch 1/5\n",
            "2298/2298 [==============================] - 169s 72ms/step - loss: 0.0625 - f1_m: 0.6181 - val_loss: 0.0496 - val_f1_m: 0.6926\n",
            "Epoch 2/5\n",
            "2298/2298 [==============================] - 159s 69ms/step - loss: 0.0453 - f1_m: 0.7195 - val_loss: 0.0486 - val_f1_m: 0.6890\n",
            "Epoch 3/5\n",
            "2298/2298 [==============================] - 157s 68ms/step - loss: 0.0394 - f1_m: 0.7480 - val_loss: 0.0492 - val_f1_m: 0.7080\n",
            "Epoch 4/5\n",
            "2298/2298 [==============================] - 161s 70ms/step - loss: 0.0343 - f1_m: 0.7839 - val_loss: 0.0519 - val_f1_m: 0.7141\n",
            "Epoch 5/5\n",
            "2298/2298 [==============================] - 165s 72ms/step - loss: 0.0296 - f1_m: 0.8105 - val_loss: 0.0553 - val_f1_m: 0.7090\n"
          ]
        }
      ]
    },
    {
      "cell_type": "code",
      "source": [
        "y_pred = model_4.predict([tokens_dev], batch_size=50, verbose=1)"
      ],
      "metadata": {
        "colab": {
          "base_uri": "https://localhost:8080/"
        },
        "id": "THDTrpiyvrms",
        "outputId": "ae645522-3ac2-40c3-9b36-7e75990b0f7a"
      },
      "execution_count": null,
      "outputs": [
        {
          "output_type": "stream",
          "name": "stdout",
          "text": [
            "639/639 [==============================] - 21s 29ms/step\n"
          ]
        }
      ]
    },
    {
      "cell_type": "code",
      "source": [
        "Model_OverallPerformance(y_pred, y_dev)"
      ],
      "metadata": {
        "colab": {
          "base_uri": "https://localhost:8080/",
          "height": 763
        },
        "id": "SwQm472BvrpK",
        "outputId": "53c2ed9f-6c52-477b-d959-43fa370ccd1d"
      },
      "execution_count": null,
      "outputs": [
        {
          "output_type": "stream",
          "name": "stderr",
          "text": [
            "/usr/local/lib/python3.10/dist-packages/sklearn/metrics/_classification.py:1344: UndefinedMetricWarning: Precision is ill-defined and being set to 0.0 due to no predicted samples. Use `zero_division` parameter to control this behavior.\n",
            "  _warn_prf(average, modifier, msg_start, len(result))\n"
          ]
        },
        {
          "output_type": "stream",
          "name": "stdout",
          "text": [
            "\n",
            "\n"
          ]
        },
        {
          "output_type": "display_data",
          "data": {
            "text/plain": [
              "            Toxic  Severe_Toxic  Obscene  Threat  Insult  Identity_Hate\n",
              "Accuracy   0.9580        0.9869   0.9801  0.9971  0.9710         0.9930\n",
              "Precision  0.8023        0.3949   0.8313  0.5800  0.6867         0.6294\n",
              "Recall     0.7359        0.6442   0.7776  0.5321  0.7470         0.4509\n",
              "F1         0.7677        0.4896   0.8036  0.5550  0.7156         0.5254"
            ],
            "text/html": [
              "\n",
              "  <div id=\"df-06929a56-9d2d-4e2c-bd85-2da78fb357f0\">\n",
              "    <div class=\"colab-df-container\">\n",
              "      <div>\n",
              "<style scoped>\n",
              "    .dataframe tbody tr th:only-of-type {\n",
              "        vertical-align: middle;\n",
              "    }\n",
              "\n",
              "    .dataframe tbody tr th {\n",
              "        vertical-align: top;\n",
              "    }\n",
              "\n",
              "    .dataframe thead th {\n",
              "        text-align: right;\n",
              "    }\n",
              "</style>\n",
              "<table border=\"1\" class=\"dataframe\">\n",
              "  <thead>\n",
              "    <tr style=\"text-align: right;\">\n",
              "      <th></th>\n",
              "      <th>Toxic</th>\n",
              "      <th>Severe_Toxic</th>\n",
              "      <th>Obscene</th>\n",
              "      <th>Threat</th>\n",
              "      <th>Insult</th>\n",
              "      <th>Identity_Hate</th>\n",
              "    </tr>\n",
              "  </thead>\n",
              "  <tbody>\n",
              "    <tr>\n",
              "      <th>Accuracy</th>\n",
              "      <td>0.9580</td>\n",
              "      <td>0.9869</td>\n",
              "      <td>0.9801</td>\n",
              "      <td>0.9971</td>\n",
              "      <td>0.9710</td>\n",
              "      <td>0.9930</td>\n",
              "    </tr>\n",
              "    <tr>\n",
              "      <th>Precision</th>\n",
              "      <td>0.8023</td>\n",
              "      <td>0.3949</td>\n",
              "      <td>0.8313</td>\n",
              "      <td>0.5800</td>\n",
              "      <td>0.6867</td>\n",
              "      <td>0.6294</td>\n",
              "    </tr>\n",
              "    <tr>\n",
              "      <th>Recall</th>\n",
              "      <td>0.7359</td>\n",
              "      <td>0.6442</td>\n",
              "      <td>0.7776</td>\n",
              "      <td>0.5321</td>\n",
              "      <td>0.7470</td>\n",
              "      <td>0.4509</td>\n",
              "    </tr>\n",
              "    <tr>\n",
              "      <th>F1</th>\n",
              "      <td>0.7677</td>\n",
              "      <td>0.4896</td>\n",
              "      <td>0.8036</td>\n",
              "      <td>0.5550</td>\n",
              "      <td>0.7156</td>\n",
              "      <td>0.5254</td>\n",
              "    </tr>\n",
              "  </tbody>\n",
              "</table>\n",
              "</div>\n",
              "      <button class=\"colab-df-convert\" onclick=\"convertToInteractive('df-06929a56-9d2d-4e2c-bd85-2da78fb357f0')\"\n",
              "              title=\"Convert this dataframe to an interactive table.\"\n",
              "              style=\"display:none;\">\n",
              "        \n",
              "  <svg xmlns=\"http://www.w3.org/2000/svg\" height=\"24px\"viewBox=\"0 0 24 24\"\n",
              "       width=\"24px\">\n",
              "    <path d=\"M0 0h24v24H0V0z\" fill=\"none\"/>\n",
              "    <path d=\"M18.56 5.44l.94 2.06.94-2.06 2.06-.94-2.06-.94-.94-2.06-.94 2.06-2.06.94zm-11 1L8.5 8.5l.94-2.06 2.06-.94-2.06-.94L8.5 2.5l-.94 2.06-2.06.94zm10 10l.94 2.06.94-2.06 2.06-.94-2.06-.94-.94-2.06-.94 2.06-2.06.94z\"/><path d=\"M17.41 7.96l-1.37-1.37c-.4-.4-.92-.59-1.43-.59-.52 0-1.04.2-1.43.59L10.3 9.45l-7.72 7.72c-.78.78-.78 2.05 0 2.83L4 21.41c.39.39.9.59 1.41.59.51 0 1.02-.2 1.41-.59l7.78-7.78 2.81-2.81c.8-.78.8-2.07 0-2.86zM5.41 20L4 18.59l7.72-7.72 1.47 1.35L5.41 20z\"/>\n",
              "  </svg>\n",
              "      </button>\n",
              "      \n",
              "  <style>\n",
              "    .colab-df-container {\n",
              "      display:flex;\n",
              "      flex-wrap:wrap;\n",
              "      gap: 12px;\n",
              "    }\n",
              "\n",
              "    .colab-df-convert {\n",
              "      background-color: #E8F0FE;\n",
              "      border: none;\n",
              "      border-radius: 50%;\n",
              "      cursor: pointer;\n",
              "      display: none;\n",
              "      fill: #1967D2;\n",
              "      height: 32px;\n",
              "      padding: 0 0 0 0;\n",
              "      width: 32px;\n",
              "    }\n",
              "\n",
              "    .colab-df-convert:hover {\n",
              "      background-color: #E2EBFA;\n",
              "      box-shadow: 0px 1px 2px rgba(60, 64, 67, 0.3), 0px 1px 3px 1px rgba(60, 64, 67, 0.15);\n",
              "      fill: #174EA6;\n",
              "    }\n",
              "\n",
              "    [theme=dark] .colab-df-convert {\n",
              "      background-color: #3B4455;\n",
              "      fill: #D2E3FC;\n",
              "    }\n",
              "\n",
              "    [theme=dark] .colab-df-convert:hover {\n",
              "      background-color: #434B5C;\n",
              "      box-shadow: 0px 1px 3px 1px rgba(0, 0, 0, 0.15);\n",
              "      filter: drop-shadow(0px 1px 2px rgba(0, 0, 0, 0.3));\n",
              "      fill: #FFFFFF;\n",
              "    }\n",
              "  </style>\n",
              "\n",
              "      <script>\n",
              "        const buttonEl =\n",
              "          document.querySelector('#df-06929a56-9d2d-4e2c-bd85-2da78fb357f0 button.colab-df-convert');\n",
              "        buttonEl.style.display =\n",
              "          google.colab.kernel.accessAllowed ? 'block' : 'none';\n",
              "\n",
              "        async function convertToInteractive(key) {\n",
              "          const element = document.querySelector('#df-06929a56-9d2d-4e2c-bd85-2da78fb357f0');\n",
              "          const dataTable =\n",
              "            await google.colab.kernel.invokeFunction('convertToInteractive',\n",
              "                                                     [key], {});\n",
              "          if (!dataTable) return;\n",
              "\n",
              "          const docLinkHtml = 'Like what you see? Visit the ' +\n",
              "            '<a target=\"_blank\" href=https://colab.research.google.com/notebooks/data_table.ipynb>data table notebook</a>'\n",
              "            + ' to learn more about interactive tables.';\n",
              "          element.innerHTML = '';\n",
              "          dataTable['output_type'] = 'display_data';\n",
              "          await google.colab.output.renderOutput(dataTable, element);\n",
              "          const docLink = document.createElement('div');\n",
              "          docLink.innerHTML = docLinkHtml;\n",
              "          element.appendChild(docLink);\n",
              "        }\n",
              "      </script>\n",
              "    </div>\n",
              "  </div>\n",
              "  "
            ]
          },
          "metadata": {}
        },
        {
          "output_type": "stream",
          "name": "stdout",
          "text": [
            "\n",
            "\n"
          ]
        },
        {
          "output_type": "display_data",
          "data": {
            "text/plain": [
              "<Figure size 1200x600 with 1 Axes>"
            ],
            "image/png": "[encoded data removed]"
          },
          "metadata": {}
        }
      ]
    },
    {
      "cell_type": "markdown",
      "source": [
        "The BLSTM model has the best performance so far."
      ],
      "metadata": {
        "id": "SlXi6mt-yRt7"
      }
    },
    {
      "cell_type": "code",
      "source": [
        "# 2 layers of BLSTM\n",
        "model_5 = Sequential([])\n",
        "\n",
        "model_5.add(layers.Input(shape=(maxlen,)))\n",
        "model_5.add(layers.Embedding(embedding_matrix.shape[0], \n",
        "                           embedding_matrix.shape[1], \n",
        "                           weights=[embedding_matrix]))\n",
        "model_5.add(layers.Bidirectional(layers.LSTM(50,  return_sequences=True)))\n",
        "model_5.add(layers.Bidirectional(layers.LSTM(50,  return_sequences=True)))\n",
        "model_5.add(layers.BatchNormalization())\n",
        "model_5.add(layers.GlobalMaxPool1D())\n",
        "model_5.add(layers.Dense(50, activation='relu'))\n",
        "model_5.add(layers.Dropout(0.1))\n",
        "model_5.add(layers.Dense(6, activation=\"sigmoid\"))"
      ],
      "metadata": {
        "id": "kPUpG-wy6SYa"
      },
      "execution_count": null,
      "outputs": []
    },
    {
      "cell_type": "code",
      "source": [
        "model_5.summary()"
      ],
      "metadata": {
        "colab": {
          "base_uri": "https://localhost:8080/"
        },
        "id": "ktkt6hgP6eXY",
        "outputId": "7c4d192e-782a-4182-961d-e2cfa0f0ea34"
      },
      "execution_count": null,
      "outputs": [
        {
          "output_type": "stream",
          "name": "stdout",
          "text": [
            "Model: \"sequential_25\"\n",
            "_________________________________________________________________\n",
            " Layer (type)                Output Shape              Param #   \n",
            "=================================================================\n",
            " embedding_25 (Embedding)    (None, 50, 100)           2000000   \n",
            "                                                                 \n",
            " bidirectional_12 (Bidirecti  (None, 50, 100)          60400     \n",
            " onal)                                                           \n",
            "                                                                 \n",
            " bidirectional_13 (Bidirecti  (None, 50, 100)          60400     \n",
            " onal)                                                           \n",
            "                                                                 \n",
            " batch_normalization_11 (Bat  (None, 50, 100)          400       \n",
            " chNormalization)                                                \n",
            "                                                                 \n",
            " global_max_pooling1d_17 (Gl  (None, 100)              0         \n",
            " obalMaxPooling1D)                                               \n",
            "                                                                 \n",
            " dense_45 (Dense)            (None, 50)                5050      \n",
            "                                                                 \n",
            " dropout_23 (Dropout)        (None, 50)                0         \n",
            "                                                                 \n",
            " dense_46 (Dense)            (None, 6)                 306       \n",
            "                                                                 \n",
            "=================================================================\n",
            "Total params: 2,126,556\n",
            "Trainable params: 2,126,356\n",
            "Non-trainable params: 200\n",
            "_________________________________________________________________\n"
          ]
        }
      ]
    },
    {
      "cell_type": "code",
      "source": [
        "model_5.compile(loss='binary_crossentropy', optimizer='adam', metrics=[f1_m])"
      ],
      "metadata": {
        "id": "GN0XhlY16g1y"
      },
      "execution_count": null,
      "outputs": []
    },
    {
      "cell_type": "code",
      "source": [
        "model_5.fit(tokens_train, y_train, batch_size= 50, epochs= 5, validation_split=0.1);"
      ],
      "metadata": {
        "colab": {
          "base_uri": "https://localhost:8080/"
        },
        "id": "QM3pPtBN6jTk",
        "outputId": "4d45b3fc-d950-44d8-e350-2b5b1e742482"
      },
      "execution_count": null,
      "outputs": [
        {
          "output_type": "stream",
          "name": "stdout",
          "text": [
            "Epoch 1/5\n",
            "2298/2298 [==============================] - 303s 129ms/step - loss: 0.0621 - f1_m: 0.6260 - val_loss: 0.0507 - val_f1_m: 0.7094\n",
            "Epoch 2/5\n",
            "2298/2298 [==============================] - 286s 124ms/step - loss: 0.0466 - f1_m: 0.7068 - val_loss: 0.0479 - val_f1_m: 0.7189\n",
            "Epoch 3/5\n",
            "2298/2298 [==============================] - 286s 124ms/step - loss: 0.0408 - f1_m: 0.7311 - val_loss: 0.0499 - val_f1_m: 0.7105\n",
            "Epoch 4/5\n",
            "2298/2298 [==============================] - 287s 125ms/step - loss: 0.0355 - f1_m: 0.7672 - val_loss: 0.0536 - val_f1_m: 0.6969\n",
            "Epoch 5/5\n",
            "2298/2298 [==============================] - 280s 122ms/step - loss: 0.0308 - f1_m: 0.7984 - val_loss: 0.0583 - val_f1_m: 0.7076\n"
          ]
        }
      ]
    },
    {
      "cell_type": "code",
      "source": [
        "y_pred = model_5.predict([tokens_dev], batch_size=50, verbose=1)"
      ],
      "metadata": {
        "colab": {
          "base_uri": "https://localhost:8080/"
        },
        "id": "YN0RhGn26mbo",
        "outputId": "efe76c45-da1f-4542-8b50-0db21329c11a"
      },
      "execution_count": null,
      "outputs": [
        {
          "output_type": "stream",
          "name": "stdout",
          "text": [
            "639/639 [==============================] - 19s 28ms/step\n"
          ]
        }
      ]
    },
    {
      "cell_type": "code",
      "source": [
        "Model_OverallPerformance(y_pred, y_dev)"
      ],
      "metadata": {
        "colab": {
          "base_uri": "https://localhost:8080/",
          "height": 836
        },
        "id": "mlumYu4S6qnh",
        "outputId": "7f9a1bc7-f951-4f0e-a373-fdf45593214f"
      },
      "execution_count": null,
      "outputs": [
        {
          "output_type": "stream",
          "name": "stdout",
          "text": [
            "\n",
            "\n"
          ]
        },
        {
          "output_type": "display_data",
          "data": {
            "text/plain": [
              "            Toxic  Severe_Toxic  Obscene  Threat  Insult  Identity_Hate\n",
              "Accuracy   0.9597        0.9876   0.9813  0.9966  0.9718         0.9916\n",
              "Precision  0.8292        0.4094   0.8567  0.5132  0.7021         0.5144\n",
              "Recall     0.7206        0.6154   0.7717  0.3578  0.7367         0.5200\n",
              "F1         0.7711        0.4917   0.8119  0.4216  0.7190         0.5172"
            ],
            "text/html": [
              "\n",
              "  <div id=\"df-b9eeb847-8413-40a0-a737-0c825813edd9\">\n",
              "    <div class=\"colab-df-container\">\n",
              "      <div>\n",
              "<style scoped>\n",
              "    .dataframe tbody tr th:only-of-type {\n",
              "        vertical-align: middle;\n",
              "    }\n",
              "\n",
              "    .dataframe tbody tr th {\n",
              "        vertical-align: top;\n",
              "    }\n",
              "\n",
              "    .dataframe thead th {\n",
              "        text-align: right;\n",
              "    }\n",
              "</style>\n",
              "<table border=\"1\" class=\"dataframe\">\n",
              "  <thead>\n",
              "    <tr style=\"text-align: right;\">\n",
              "      <th></th>\n",
              "      <th>Toxic</th>\n",
              "      <th>Severe_Toxic</th>\n",
              "      <th>Obscene</th>\n",
              "      <th>Threat</th>\n",
              "      <th>Insult</th>\n",
              "      <th>Identity_Hate</th>\n",
              "    </tr>\n",
              "  </thead>\n",
              "  <tbody>\n",
              "    <tr>\n",
              "      <th>Accuracy</th>\n",
              "      <td>0.9597</td>\n",
              "      <td>0.9876</td>\n",
              "      <td>0.9813</td>\n",
              "      <td>0.9966</td>\n",
              "      <td>0.9718</td>\n",
              "      <td>0.9916</td>\n",
              "    </tr>\n",
              "    <tr>\n",
              "      <th>Precision</th>\n",
              "      <td>0.8292</td>\n",
              "      <td>0.4094</td>\n",
              "      <td>0.8567</td>\n",
              "      <td>0.5132</td>\n",
              "      <td>0.7021</td>\n",
              "      <td>0.5144</td>\n",
              "    </tr>\n",
              "    <tr>\n",
              "      <th>Recall</th>\n",
              "      <td>0.7206</td>\n",
              "      <td>0.6154</td>\n",
              "      <td>0.7717</td>\n",
              "      <td>0.3578</td>\n",
              "      <td>0.7367</td>\n",
              "      <td>0.5200</td>\n",
              "    </tr>\n",
              "    <tr>\n",
              "      <th>F1</th>\n",
              "      <td>0.7711</td>\n",
              "      <td>0.4917</td>\n",
              "      <td>0.8119</td>\n",
              "      <td>0.4216</td>\n",
              "      <td>0.7190</td>\n",
              "      <td>0.5172</td>\n",
              "    </tr>\n",
              "  </tbody>\n",
              "</table>\n",
              "</div>\n",
              "      <button class=\"colab-df-convert\" onclick=\"convertToInteractive('df-b9eeb847-8413-40a0-a737-0c825813edd9')\"\n",
              "              title=\"Convert this dataframe to an interactive table.\"\n",
              "              style=\"display:none;\">\n",
              "        \n",
              "  <svg xmlns=\"http://www.w3.org/2000/svg\" height=\"24px\"viewBox=\"0 0 24 24\"\n",
              "       width=\"24px\">\n",
              "    <path d=\"M0 0h24v24H0V0z\" fill=\"none\"/>\n",
              "    <path d=\"M18.56 5.44l.94 2.06.94-2.06 2.06-.94-2.06-.94-.94-2.06-.94 2.06-2.06.94zm-11 1L8.5 8.5l.94-2.06 2.06-.94-2.06-.94L8.5 2.5l-.94 2.06-2.06.94zm10 10l.94 2.06.94-2.06 2.06-.94-2.06-.94-.94-2.06-.94 2.06-2.06.94z\"/><path d=\"M17.41 7.96l-1.37-1.37c-.4-.4-.92-.59-1.43-.59-.52 0-1.04.2-1.43.59L10.3 9.45l-7.72 7.72c-.78.78-.78 2.05 0 2.83L4 21.41c.39.39.9.59 1.41.59.51 0 1.02-.2 1.41-.59l7.78-7.78 2.81-2.81c.8-.78.8-2.07 0-2.86zM5.41 20L4 18.59l7.72-7.72 1.47 1.35L5.41 20z\"/>\n",
              "  </svg>\n",
              "      </button>\n",
              "      \n",
              "  <style>\n",
              "    .colab-df-container {\n",
              "      display:flex;\n",
              "      flex-wrap:wrap;\n",
              "      gap: 12px;\n",
              "    }\n",
              "\n",
              "    .colab-df-convert {\n",
              "      background-color: #E8F0FE;\n",
              "      border: none;\n",
              "      border-radius: 50%;\n",
              "      cursor: pointer;\n",
              "      display: none;\n",
              "      fill: #1967D2;\n",
              "      height: 32px;\n",
              "      padding: 0 0 0 0;\n",
              "      width: 32px;\n",
              "    }\n",
              "\n",
              "    .colab-df-convert:hover {\n",
              "      background-color: #E2EBFA;\n",
              "      box-shadow: 0px 1px 2px rgba(60, 64, 67, 0.3), 0px 1px 3px 1px rgba(60, 64, 67, 0.15);\n",
              "      fill: #174EA6;\n",
              "    }\n",
              "\n",
              "    [theme=dark] .colab-df-convert {\n",
              "      background-color: #3B4455;\n",
              "      fill: #D2E3FC;\n",
              "    }\n",
              "\n",
              "    [theme=dark] .colab-df-convert:hover {\n",
              "      background-color: #434B5C;\n",
              "      box-shadow: 0px 1px 3px 1px rgba(0, 0, 0, 0.15);\n",
              "      filter: drop-shadow(0px 1px 2px rgba(0, 0, 0, 0.3));\n",
              "      fill: #FFFFFF;\n",
              "    }\n",
              "  </style>\n",
              "\n",
              "      <script>\n",
              "        const buttonEl =\n",
              "          document.querySelector('#df-b9eeb847-8413-40a0-a737-0c825813edd9 button.colab-df-convert');\n",
              "        buttonEl.style.display =\n",
              "          google.colab.kernel.accessAllowed ? 'block' : 'none';\n",
              "\n",
              "        async function convertToInteractive(key) {\n",
              "          const element = document.querySelector('#df-b9eeb847-8413-40a0-a737-0c825813edd9');\n",
              "          const dataTable =\n",
              "            await google.colab.kernel.invokeFunction('convertToInteractive',\n",
              "                                                     [key], {});\n",
              "          if (!dataTable) return;\n",
              "\n",
              "          const docLinkHtml = 'Like what you see? Visit the ' +\n",
              "            '<a target=\"_blank\" href=https://colab.research.google.com/notebooks/data_table.ipynb>data table notebook</a>'\n",
              "            + ' to learn more about interactive tables.';\n",
              "          element.innerHTML = '';\n",
              "          dataTable['output_type'] = 'display_data';\n",
              "          await google.colab.output.renderOutput(dataTable, element);\n",
              "          const docLink = document.createElement('div');\n",
              "          docLink.innerHTML = docLinkHtml;\n",
              "          element.appendChild(docLink);\n",
              "        }\n",
              "      </script>\n",
              "    </div>\n",
              "  </div>\n",
              "  "
            ]
          },
          "metadata": {}
        },
        {
          "output_type": "stream",
          "name": "stdout",
          "text": [
            "\n",
            "\n"
          ]
        },
        {
          "output_type": "display_data",
          "data": {
            "text/plain": [
              "<Figure size 1200x600 with 1 Axes>"
            ],
            "image/png": "[encoded data removed]"
          },
          "metadata": {}
        }
      ]
    },
    {
      "cell_type": "markdown",
      "source": [
        "Two layers of BLSTM do not perform better than one layer of BLSTM. Possibly related to overfitting."
      ],
      "metadata": {
        "id": "zHscQgiqylsn"
      }
    }
  ]
}